{
 "cells": [
  {
   "cell_type": "code",
   "execution_count": 1,
   "metadata": {
    "collapsed": true
   },
   "outputs": [],
   "source": [
    "import numpy as np\n",
    "import pandas as pd\n",
    "import matplotlib.pyplot as plt\n",
    "import seaborn as sns\n",
    "% matplotlib inline"
   ]
  },
  {
   "cell_type": "code",
   "execution_count": 2,
   "metadata": {
    "collapsed": true
   },
   "outputs": [],
   "source": [
    "train_x =pd.read_csv(\"airbnb_test_x.csv\")"
   ]
  },
  {
   "cell_type": "code",
   "execution_count": 3,
   "metadata": {
    "collapsed": true
   },
   "outputs": [],
   "source": [
    "#variable-2-not considered"
   ]
  },
  {
   "cell_type": "code",
   "execution_count": 4,
   "metadata": {},
   "outputs": [
    {
     "data": {
      "text/plain": [
       "False    12208\n",
       "Name: accommodates, dtype: int64"
      ]
     },
     "execution_count": 4,
     "metadata": {},
     "output_type": "execute_result"
    }
   ],
   "source": [
    "#variable-3-accommodates\n",
    "train_x.accommodates.isnull().value_counts()\n",
    "train_x.accommodates = train_x.accommodates.str.replace('$','')\n",
    "train_x.accommodates = pd.to_numeric(train_x['accommodates'], errors='coerce')\n",
    "train_x.accommodates.isnull().value_counts()\n",
    "train_x.accommodates.fillna(train_x.accommodates.mode()[0], inplace = True)\n",
    "train_x.accommodates.isnull().value_counts()"
   ]
  },
  {
   "cell_type": "code",
   "execution_count": 5,
   "metadata": {},
   "outputs": [
    {
     "data": {
      "text/plain": [
       "2.0     4985\n",
       "4.0     2192\n",
       "3.0     1265\n",
       "6.0     1075\n",
       "1.0     1056\n",
       "5.0      603\n",
       "8.0      436\n",
       "10.0     185\n",
       "7.0      161\n",
       "12.0      76\n",
       "9.0       64\n",
       "16.0      51\n",
       "14.0      21\n",
       "11.0      20\n",
       "13.0      11\n",
       "15.0       6\n",
       "20.0       1\n",
       "Name: accommodates, dtype: int64"
      ]
     },
     "execution_count": 5,
     "metadata": {},
     "output_type": "execute_result"
    }
   ],
   "source": [
    "train_x.accommodates.value_counts()"
   ]
  },
  {
   "cell_type": "code",
   "execution_count": 6,
   "metadata": {
    "collapsed": true
   },
   "outputs": [],
   "source": [
    "train_x['amenities'] = train_x['amenities'].str.lower()"
   ]
  },
  {
   "cell_type": "code",
   "execution_count": 7,
   "metadata": {
    "collapsed": true
   },
   "outputs": [],
   "source": [
    "#variable-4-amenities\n",
    "train_x['Wifi'] = np.where(train_x['amenities'].str.contains('wifi'), 'yes', 'no')\n",
    "train_x['parking'] = np.where(train_x['amenities'].str.contains('parking'), 'yes', 'no')\n",
    "train_x['Kitchen'] = np.where(train_x['amenities'].str.contains('kitchen'), 'yes', 'no')\n",
    "train_x['24-hour-check'] = np.where(train_x['amenities'].str.contains('24-hour check-in'), 'yes', 'no')\n",
    "train_x['Breakfast'] = np.where(train_x['amenities'].str.contains('breakfast'), 'yes', 'no')\n",
    "train_x['ac'] = np.where(train_x['amenities'].str.contains('air conditioning'), 'yes', 'no')\n",
    "train_x['Heating'] = np.where(train_x['amenities'].str.contains('heating'), 'yes', 'no')"
   ]
  },
  {
   "cell_type": "code",
   "execution_count": 8,
   "metadata": {
    "collapsed": true
   },
   "outputs": [],
   "source": [
    "train_x['hair_dryer'] = np.where(train_x['amenities'].str.contains('hair dryer'), 'yes', 'no')\n",
    "train_x['hangers'] = np.where(train_x['amenities'].str.contains('hangers'), 'yes', 'no')\n",
    "train_x['iron'] = np.where(train_x['amenities'].str.contains('iron'), 'yes', 'no')\n",
    "train_x['laptop'] = np.where(train_x['amenities'].str.contains('laptop friendly workspace'), 'yes', 'no')\n",
    "train_x['shampoo'] = np.where(train_x['amenities'].str.contains('shampoo'), 'yes', 'no')\n",
    "train_x['essentials'] = np.where(train_x['amenities'].str.contains('essentials'), 'yes', 'no')\n",
    "train_x['washer'] = np.where(train_x['amenities'].str.contains('washer'), 'yes', 'no')\n",
    "train_x['dryer'] = np.where(train_x['amenities'].str.contains('dryer'), 'yes', 'no')\n",
    "train_x['tv'] = np.where(train_x['amenities'].str.contains('tv'), 'yes', 'no')\n",
    "train_x['pool'] = np.where(train_x['amenities'].str.contains('pool'), 'yes', 'no')\n",
    "train_x['gym'] = np.where(train_x['amenities'].str.contains('gym'), 'yes', 'no')\n",
    "train_x['hot tub'] = np.where(train_x['amenities'].str.contains('hot tub'), 'yes', 'no')\n",
    "train_x['cable'] = np.where(train_x['amenities'].str.contains('cable'), 'yes', 'no')\n",
    "train_x['wireless'] = np.where(train_x['amenities'].str.contains('wireless'), 'yes', 'no')\n",
    "train_x['internet'] = np.where(train_x['amenities'].str.contains('internet'), 'yes', 'no')\n",
    "train_x['family/kid friendly'] = np.where(train_x['amenities'].str.contains('family/kid friendly'), 'yes', 'no')\n",
    "train_x['elevator'] = np.where(train_x['amenities'].str.contains('elevator'), 'yes', 'no')"
   ]
  },
  {
   "cell_type": "code",
   "execution_count": 9,
   "metadata": {},
   "outputs": [
    {
     "data": {
      "text/plain": [
       "0.0     3582\n",
       "30.0     816\n",
       "29.0     422\n",
       "3.0      399\n",
       "6.0      373\n",
       "4.0      373\n",
       "2.0      372\n",
       "8.0      349\n",
       "1.0      339\n",
       "5.0      329\n",
       "7.0      310\n",
       "10.0     299\n",
       "9.0      294\n",
       "11.0     289\n",
       "12.0     282\n",
       "13.0     267\n",
       "15.0     247\n",
       "18.0     242\n",
       "14.0     236\n",
       "16.0     229\n",
       "17.0     223\n",
       "28.0     215\n",
       "20.0     212\n",
       "19.0     210\n",
       "23.0     203\n",
       "27.0     202\n",
       "22.0     202\n",
       "21.0     194\n",
       "25.0     178\n",
       "24.0     170\n",
       "26.0     150\n",
       "Name: availability_30, dtype: int64"
      ]
     },
     "execution_count": 9,
     "metadata": {},
     "output_type": "execute_result"
    }
   ],
   "source": [
    "#variable-5-availability_30\n",
    "train_x.availability_30 = train_x.availability_30.str.replace('$','')\n",
    "train_x.availability_30 = pd.to_numeric(train_x['availability_30'], errors='coerce')\n",
    "train_x.availability_30.fillna(train_x.availability_30.mode()[0], inplace = True)\n",
    "train_x.availability_30.value_counts()"
   ]
  },
  {
   "cell_type": "code",
   "execution_count": 10,
   "metadata": {},
   "outputs": [
    {
     "data": {
      "text/plain": [
       "False    12208\n",
       "Name: availability_365, dtype: int64"
      ]
     },
     "execution_count": 10,
     "metadata": {},
     "output_type": "execute_result"
    }
   ],
   "source": [
    "#variable-6-availability-365-completely clean\n",
    "train_x.availability_365.isnull().value_counts()"
   ]
  },
  {
   "cell_type": "code",
   "execution_count": 11,
   "metadata": {},
   "outputs": [
    {
     "data": {
      "text/plain": [
       "0.0     2921\n",
       "60.0     740\n",
       "59.0     371\n",
       "8.0      169\n",
       "2.0      168\n",
       "58.0     167\n",
       "26.0     165\n",
       "10.0     164\n",
       "31.0     163\n",
       "4.0      163\n",
       "1.0      162\n",
       "33.0     161\n",
       "18.0     161\n",
       "7.0      160\n",
       "30.0     159\n",
       "34.0     157\n",
       "9.0      157\n",
       "11.0     157\n",
       "24.0     155\n",
       "36.0     152\n",
       "32.0     151\n",
       "28.0     149\n",
       "12.0     149\n",
       "3.0      146\n",
       "15.0     145\n",
       "57.0     142\n",
       "6.0      142\n",
       "13.0     141\n",
       "19.0     140\n",
       "25.0     139\n",
       "        ... \n",
       "49.0     139\n",
       "5.0      138\n",
       "14.0     138\n",
       "23.0     137\n",
       "27.0     137\n",
       "22.0     137\n",
       "38.0     134\n",
       "42.0     134\n",
       "50.0     133\n",
       "17.0     133\n",
       "20.0     133\n",
       "44.0     133\n",
       "16.0     132\n",
       "51.0     131\n",
       "53.0     129\n",
       "54.0     128\n",
       "21.0     128\n",
       "39.0     128\n",
       "52.0     127\n",
       "41.0     127\n",
       "35.0     125\n",
       "47.0     125\n",
       "37.0     124\n",
       "55.0     124\n",
       "46.0     123\n",
       "43.0     121\n",
       "45.0     117\n",
       "48.0     114\n",
       "40.0     113\n",
       "56.0     111\n",
       "Name: availability_60, Length: 61, dtype: int64"
      ]
     },
     "execution_count": 11,
     "metadata": {},
     "output_type": "execute_result"
    }
   ],
   "source": [
    "#variable-7-availability_60\n",
    "train_x.availability_60 = train_x.availability_60.str.replace('$','')\n",
    "train_x.availability_60 = pd.to_numeric(train_x['availability_60'], errors='coerce')\n",
    "train_x.availability_60.fillna(train_x.availability_60.mode()[0], inplace = True)\n",
    "train_x.availability_60.value_counts()"
   ]
  },
  {
   "cell_type": "code",
   "execution_count": 12,
   "metadata": {},
   "outputs": [
    {
     "data": {
      "text/plain": [
       "False    12208\n",
       "Name: availability_90, dtype: int64"
      ]
     },
     "execution_count": 12,
     "metadata": {},
     "output_type": "execute_result"
    }
   ],
   "source": [
    "#variable-8-availability_90\n",
    "train_x.availability_90 = train_x.availability_90.str.replace('$','')\n",
    "train_x.availability_90 = pd.to_numeric(train_x['availability_90'], errors='coerce')\n",
    "train_x.availability_90.fillna(train_x.availability_90.mode()[0], inplace = True)\n",
    "train_x.availability_90.isnull().value_counts()"
   ]
  },
  {
   "cell_type": "code",
   "execution_count": 13,
   "metadata": {},
   "outputs": [
    {
     "data": {
      "text/plain": [
       "False    12208\n",
       "Name: bathrooms, dtype: int64"
      ]
     },
     "execution_count": 13,
     "metadata": {},
     "output_type": "execute_result"
    }
   ],
   "source": [
    "#variable-9-bathroom\n",
    "train_x.bathrooms= train_x.bathrooms.str.replace('$','')\n",
    "train_x.bathrooms = pd.to_numeric(train_x['bathrooms'], errors='coerce')\n",
    "train_x.bathrooms.fillna(1, inplace = True)\n",
    "train_x.bathrooms.isnull().value_counts()"
   ]
  },
  {
   "cell_type": "code",
   "execution_count": 14,
   "metadata": {},
   "outputs": [
    {
     "data": {
      "text/plain": [
       "False    12208\n",
       "Name: bed_type, dtype: int64"
      ]
     },
     "execution_count": 14,
     "metadata": {},
     "output_type": "execute_result"
    }
   ],
   "source": [
    "#variable-10-bed_type\n",
    "train_x.bed_type = train_x.bed_type.str.replace('$','')\n",
    "train_x.bed_type = train_x.bed_type.str.replace('(\\d+)%','Real Bed')\n",
    "train_x.bed_type.fillna('Real Bed', inplace = True)\n",
    "train_x.bed_type.isnull().value_counts()"
   ]
  },
  {
   "cell_type": "code",
   "execution_count": 15,
   "metadata": {},
   "outputs": [
    {
     "data": {
      "text/plain": [
       "False    12208\n",
       "Name: bedrooms, dtype: int64"
      ]
     },
     "execution_count": 15,
     "metadata": {},
     "output_type": "execute_result"
    }
   ],
   "source": [
    "#variable-11-bedrooms\n",
    "train_x.bedrooms = train_x.bedrooms.str.replace('$','')\n",
    "train_x.bedrooms = pd.to_numeric(train_x['bedrooms'], errors='coerce')\n",
    "train_x.bedrooms.fillna(1, inplace = True)\n",
    "train_x.bedrooms.isnull().value_counts()"
   ]
  },
  {
   "cell_type": "code",
   "execution_count": 16,
   "metadata": {},
   "outputs": [
    {
     "data": {
      "text/plain": [
       "False    12208\n",
       "Name: beds, dtype: int64"
      ]
     },
     "execution_count": 16,
     "metadata": {},
     "output_type": "execute_result"
    }
   ],
   "source": [
    "#variable-12-beds\n",
    "train_x.beds = train_x.beds.str.replace('$','')\n",
    "train_x.beds = pd.to_numeric(train_x['beds'], errors='coerce')\n",
    "train_x.beds.fillna(1, inplace = True)\n",
    "train_x.beds.isnull().value_counts()"
   ]
  },
  {
   "cell_type": "code",
   "execution_count": 17,
   "metadata": {},
   "outputs": [
    {
     "data": {
      "text/plain": [
       "strict             5587\n",
       "moderate           3756\n",
       "flexible           2815\n",
       "super_strict_30      31\n",
       "super_strict_60      17\n",
       "5.0                   1\n",
       "2.0                   1\n",
       "Name: cancellation_policy, dtype: int64"
      ]
     },
     "execution_count": 17,
     "metadata": {},
     "output_type": "execute_result"
    }
   ],
   "source": [
    "train_x['cancellation_policy'].value_counts()"
   ]
  },
  {
   "cell_type": "code",
   "execution_count": 18,
   "metadata": {},
   "outputs": [
    {
     "data": {
      "text/plain": [
       "strict         5589\n",
       "moderate       3756\n",
       "flexible       2815\n",
       "very_strict      48\n",
       "Name: cancellation_policy, dtype: int64"
      ]
     },
     "execution_count": 18,
     "metadata": {},
     "output_type": "execute_result"
    }
   ],
   "source": [
    "#variable-13-cancellation-policy\n",
    "train_x.cancellation_policy = train_x.cancellation_policy.str.replace('$','')\n",
    "train_x['cancellation_policy'] = train_x['cancellation_policy'].str.replace('super_strict_30', 'very_strict')\n",
    "train_x['cancellation_policy'] = train_x['cancellation_policy'].str.replace('super_strict_60', 'very_strict')\n",
    "train_x['cancellation_policy'] = train_x['cancellation_policy'].str.replace('5', 'strict')\n",
    "#train_x['cancellation_policy'] = train_x['cancellation_policy'].str.replace('1', 'strict')\n",
    "train_x['cancellation_policy'] = train_x['cancellation_policy'].str.replace('2', 'strict')\n",
    "#train_x['cancellation_policy'] = train_x['cancellation_policy'].str.replace('no_refunds', 'strict')\n",
    "train_x['cancellation_policy'] = train_x['cancellation_policy'].str.replace('strict.0', 'strict')\n",
    "train_x.cancellation_policy.value_counts()"
   ]
  },
  {
   "cell_type": "code",
   "execution_count": 19,
   "metadata": {},
   "outputs": [
    {
     "data": {
      "text/plain": [
       "50.0     3323\n",
       "100.0     764\n",
       "25.0      715\n",
       "75.0      559\n",
       "20.0      550\n",
       "30.0      516\n",
       "40.0      449\n",
       "10.0      429\n",
       "60.0      407\n",
       "150.0     386\n",
       "15.0      383\n",
       "35.0      330\n",
       "80.0      284\n",
       "65.0      224\n",
       "0.0       218\n",
       "125.0     208\n",
       "45.0      207\n",
       "120.0     147\n",
       "70.0      143\n",
       "200.0     127\n",
       "85.0      127\n",
       "90.0      122\n",
       "5.0       114\n",
       "95.0      112\n",
       "55.0       93\n",
       "99.0       86\n",
       "250.0      59\n",
       "175.0      57\n",
       "110.0      53\n",
       "49.0       46\n",
       "         ... \n",
       "237.0       1\n",
       "51.0        1\n",
       "141.0       1\n",
       "154.0       1\n",
       "47.0        1\n",
       "480.0       1\n",
       "36.0        1\n",
       "147.0       1\n",
       "223.0       1\n",
       "264.0       1\n",
       "117.0       1\n",
       "425.0       1\n",
       "93.0        1\n",
       "244.0       1\n",
       "143.0       1\n",
       "675.0       1\n",
       "34.0        1\n",
       "270.0       1\n",
       "62.0        1\n",
       "158.0       1\n",
       "106.0       1\n",
       "191.0       1\n",
       "168.0       1\n",
       "92.0        1\n",
       "136.0       1\n",
       "101.0       1\n",
       "254.0       1\n",
       "121.0       1\n",
       "193.0       1\n",
       "310.0       1\n",
       "Name: cleaning_fee, Length: 196, dtype: int64"
      ]
     },
     "execution_count": 19,
     "metadata": {},
     "output_type": "execute_result"
    }
   ],
   "source": [
    "#variable-14-cleaning_fee\n",
    "train_x.cleaning_fee = train_x.cleaning_fee.str.replace('$','')\n",
    "train_x.cleaning_fee = pd.to_numeric(train_x['cleaning_fee'], errors='coerce')\n",
    "train_x.cleaning_fee.fillna(train_x.cleaning_fee.mode()[0], inplace = True)\n",
    "train_x.cleaning_fee.value_counts()"
   ]
  },
  {
   "cell_type": "code",
   "execution_count": 20,
   "metadata": {},
   "outputs": [
    {
     "data": {
      "text/plain": [
       "dtype('float64')"
      ]
     },
     "execution_count": 20,
     "metadata": {},
     "output_type": "execute_result"
    }
   ],
   "source": [
    "train_x.cleaning_fee.dtype"
   ]
  },
  {
   "cell_type": "code",
   "execution_count": 21,
   "metadata": {
    "collapsed": true
   },
   "outputs": [],
   "source": [
    "#variable-15-21- city,city_name,county,country,country_code,latitude,longitude \n",
    "#variable-22-23 - description, experiences_offered\n"
   ]
  },
  {
   "cell_type": "code",
   "execution_count": 22,
   "metadata": {
    "collapsed": true
   },
   "outputs": [],
   "source": [
    "extra = pd.read_csv(\"test-state-city-prop_type.csv\")"
   ]
  },
  {
   "cell_type": "code",
   "execution_count": 23,
   "metadata": {
    "collapsed": true
   },
   "outputs": [],
   "source": [
    "#variable- 16-city_name\n",
    "#extra['city'] = extra['city'].str.replace('Washington, D.C.', 'Washington DC')\n",
    "train_x.city = extra.city"
   ]
  },
  {
   "cell_type": "code",
   "execution_count": 24,
   "metadata": {},
   "outputs": [
    {
     "data": {
      "text/plain": [
       "$0.00          5880\n",
       "$25.00         1101\n",
       "$20.00         1063\n",
       "$10.00         1015\n",
       "$15.00          759\n",
       "$50.00          634\n",
       "$30.00          396\n",
       "$35.00          195\n",
       "$40.00          189\n",
       "$5.00           172\n",
       "$100.00         119\n",
       "$75.00           71\n",
       "$45.00           66\n",
       "$12.00           55\n",
       "$7.00            36\n",
       "$8.00            32\n",
       "$18.00           31\n",
       "$60.00           30\n",
       "$19.00           21\n",
       "$150.00          19\n",
       "$6.00            18\n",
       "$49.00           17\n",
       "$27.00           16\n",
       "$39.00           16\n",
       "$29.00           15\n",
       "$9.00            15\n",
       "$200.00          14\n",
       "$300.00          14\n",
       "$55.00           13\n",
       "$28.00           13\n",
       "               ... \n",
       "$23.00            5\n",
       "$125.00           4\n",
       "$250.00           4\n",
       "$120.00           4\n",
       "$90.00            4\n",
       "$37.00            3\n",
       "$32.00            3\n",
       "$42.00            2\n",
       "$58.00            2\n",
       "$89.00            1\n",
       "$31.00            1\n",
       "$145.00           1\n",
       "$52.00            1\n",
       "$285.00           1\n",
       "$96.00            1\n",
       "$199.00           1\n",
       "$176.00           1\n",
       "34.03214797       1\n",
       "$43.00            1\n",
       "$179.00           1\n",
       "$98.00            1\n",
       "$155.00           1\n",
       "$48.00            1\n",
       "$95.00            1\n",
       "$66.00            1\n",
       "$44.00            1\n",
       "$34.00            1\n",
       "$105.00           1\n",
       "$69.00            1\n",
       "34.10990472       1\n",
       "Name: extra_people, Length: 75, dtype: int64"
      ]
     },
     "execution_count": 24,
     "metadata": {},
     "output_type": "execute_result"
    }
   ],
   "source": [
    "extra.extra_people.value_counts()"
   ]
  },
  {
   "cell_type": "code",
   "execution_count": 25,
   "metadata": {
    "collapsed": true
   },
   "outputs": [],
   "source": [
    "#variable-24- extra_people\n",
    "extra.extra_people = extra.extra_people.str.replace('$','')\n",
    "extra.extra_people.value_counts()\n",
    "train_x.extra_people = extra.extra_people"
   ]
  },
  {
   "cell_type": "code",
   "execution_count": 26,
   "metadata": {},
   "outputs": [
    {
     "data": {
      "text/plain": [
       "0.00           5880\n",
       "25.00          1101\n",
       "20.00          1063\n",
       "10.00          1015\n",
       "15.00           759\n",
       "50.00           634\n",
       "30.00           396\n",
       "35.00           195\n",
       "40.00           189\n",
       "5.00            172\n",
       "100.00          119\n",
       "75.00            71\n",
       "45.00            66\n",
       "12.00            55\n",
       "7.00             36\n",
       "8.00             32\n",
       "18.00            31\n",
       "60.00            30\n",
       "19.00            21\n",
       "150.00           19\n",
       "6.00             18\n",
       "49.00            17\n",
       "27.00            16\n",
       "39.00            16\n",
       "9.00             15\n",
       "29.00            15\n",
       "300.00           14\n",
       "200.00           14\n",
       "28.00            13\n",
       "55.00            13\n",
       "               ... \n",
       "21.00             5\n",
       "120.00            4\n",
       "250.00            4\n",
       "125.00            4\n",
       "90.00             4\n",
       "37.00             3\n",
       "32.00             3\n",
       "58.00             2\n",
       "42.00             2\n",
       "34.03214797       1\n",
       "179.00            1\n",
       "98.00             1\n",
       "105.00            1\n",
       "176.00            1\n",
       "31.00             1\n",
       "43.00             1\n",
       "69.00             1\n",
       "52.00             1\n",
       "89.00             1\n",
       "66.00             1\n",
       "145.00            1\n",
       "285.00            1\n",
       "96.00             1\n",
       "155.00            1\n",
       "199.00            1\n",
       "95.00             1\n",
       "34.10990472       1\n",
       "48.00             1\n",
       "34.00             1\n",
       "44.00             1\n",
       "Name: extra_people, Length: 75, dtype: int64"
      ]
     },
     "execution_count": 26,
     "metadata": {},
     "output_type": "execute_result"
    }
   ],
   "source": [
    "train_x.extra_people.value_counts()\n",
    "train_x.extra_people = train_x.extra_people.str.replace('$','')\n",
    "train_x.extra_people.value_counts()"
   ]
  },
  {
   "cell_type": "code",
   "execution_count": 27,
   "metadata": {},
   "outputs": [
    {
     "data": {
      "text/plain": [
       "2016.0    3924\n",
       "2017.0    3112\n",
       "2015.0    2643\n",
       "2014.0    1117\n",
       "2013.0     583\n",
       "2018.0     361\n",
       "2012.0     302\n",
       "2011.0     117\n",
       "2010.0      41\n",
       "2009.0       7\n",
       "2008.0       1\n",
       "Name: year_first_review, dtype: int64"
      ]
     },
     "execution_count": 27,
     "metadata": {},
     "output_type": "execute_result"
    }
   ],
   "source": [
    "#variable-25-first_review \n",
    "train_x['date_first_review'] = pd.to_datetime(train_x['first_review'],errors='coerce')\n",
    "train_x['year_first_review'] = pd.DatetimeIndex(train_x['date_first_review']).year\n",
    "train_x.year_first_review = pd.to_numeric(train_x['year_first_review'], errors='coerce')\n",
    "train_x.year_first_review.fillna(train_x.year_first_review.mode()[0], inplace = True)\n",
    "train_x.year_first_review.value_counts()"
   ]
  },
  {
   "cell_type": "code",
   "execution_count": 28,
   "metadata": {},
   "outputs": [
    {
     "data": {
      "text/plain": [
       " 1.000000      7561\n",
       " 2.000000      2657\n",
       " 4.000000       901\n",
       " 3.000000       347\n",
       " 6.000000       322\n",
       " 5.000000       143\n",
       " 8.000000       127\n",
       " 0.000000        48\n",
       " 7.000000        33\n",
       " 10.000000       33\n",
       " 12.000000       12\n",
       " 16.000000        8\n",
       " 9.000000         6\n",
       " 11.000000        3\n",
       " 15.000000        3\n",
       "-118.480773       1\n",
       " 14.000000        1\n",
       " 13.000000        1\n",
       "-118.218851       1\n",
       "Name: guests_included, dtype: int64"
      ]
     },
     "execution_count": 28,
     "metadata": {},
     "output_type": "execute_result"
    }
   ],
   "source": [
    "train_x.guests_included.value_counts()"
   ]
  },
  {
   "cell_type": "code",
   "execution_count": 29,
   "metadata": {},
   "outputs": [
    {
     "data": {
      "text/plain": [
       "1.0     7611\n",
       "2.0     2657\n",
       "4.0      901\n",
       "3.0      347\n",
       "6.0      322\n",
       "5.0      143\n",
       "8.0      127\n",
       "7.0       33\n",
       "10.0      33\n",
       "12.0      12\n",
       "16.0       8\n",
       "9.0        6\n",
       "15.0       3\n",
       "11.0       3\n",
       "13.0       1\n",
       "14.0       1\n",
       "Name: guests_included, dtype: int64"
      ]
     },
     "execution_count": 29,
     "metadata": {},
     "output_type": "execute_result"
    }
   ],
   "source": [
    "#variable-26-guests_included\n",
    "#train_x.guests_included = train_x.guests_included.str.replace('$','')\n",
    "train_x['guests_included'] = np.where(train_x['guests_included'] <2,1,train_x['guests_included'])\n",
    "train_x.guests_included = pd.to_numeric(train_x['guests_included'], errors='coerce')\n",
    "train_x.guests_included.value_counts()"
   ]
  },
  {
   "cell_type": "code",
   "execution_count": 30,
   "metadata": {},
   "outputs": [
    {
     "data": {
      "text/plain": [
       "t    12189\n",
       "f       19\n",
       "Name: host_has_profile_pic, dtype: int64"
      ]
     },
     "execution_count": 30,
     "metadata": {},
     "output_type": "execute_result"
    }
   ],
   "source": [
    "#variable-29-host_has_profile_pic\n",
    "train_x.host_has_profile_pic = train_x.host_has_profile_pic.str.replace('$','')\n",
    "train_x.host_has_profile_pic.fillna('t', inplace = True)\n",
    "train_x['host_has_profile_pic'] = np.where(~train_x['host_has_profile_pic'].astype(str).str.contains('f'), 't', 'f')\n",
    "train_x.host_has_profile_pic.value_counts()"
   ]
  },
  {
   "cell_type": "code",
   "execution_count": 31,
   "metadata": {},
   "outputs": [
    {
     "data": {
      "text/plain": [
       "t    8568\n",
       "f    3640\n",
       "Name: host_identity_verified, dtype: int64"
      ]
     },
     "execution_count": 31,
     "metadata": {},
     "output_type": "execute_result"
    }
   ],
   "source": [
    "#variable-30-host_identity_verified\n",
    "train_x.host_identity_verified.value_counts()\n",
    "train_x.host_identity_verified = train_x.host_identity_verified.str.replace('$','')\n",
    "train_x.host_identity_verified.fillna('t', inplace = True)\n",
    "train_x['host_identity_verified'] = np.where(~train_x['host_identity_verified'].astype(str).str.contains('f'), 't', 'f')\n",
    "train_x.host_identity_verified.value_counts()"
   ]
  },
  {
   "cell_type": "code",
   "execution_count": 32,
   "metadata": {},
   "outputs": [
    {
     "data": {
      "text/plain": [
       "0.0    9122\n",
       "1.0    3086\n",
       "Name: host_is_superhost, dtype: int64"
      ]
     },
     "execution_count": 32,
     "metadata": {},
     "output_type": "execute_result"
    }
   ],
   "source": [
    "#variable-31-host_is_superhost\n",
    "train_x.host_is_superhost = train_x.host_is_superhost.str.replace('$','')\n",
    "train_x.host_is_superhost.fillna(0, inplace = True)\n",
    "train_x.host_is_superhost = train_x.host_is_superhost.str.replace('f','0')\n",
    "train_x.host_is_superhost = train_x.host_is_superhost.str.replace('t','1')\n",
    "train_x.host_is_superhost = pd.to_numeric(train_x['host_is_superhost'], errors='coerce')\n",
    "train_x.host_is_superhost.fillna(0, inplace = True)\n",
    "train_x.host_is_superhost.value_counts()"
   ]
  },
  {
   "cell_type": "code",
   "execution_count": 33,
   "metadata": {
    "scrolled": true
   },
   "outputs": [
    {
     "data": {
      "text/plain": [
       "100.0    10043\n",
       "90.0       327\n",
       "80.0       175\n",
       "99.0       132\n",
       "50.0       108\n",
       "98.0       103\n",
       "96.0       102\n",
       "97.0        86\n",
       "95.0        84\n",
       "94.0        81\n",
       "0.0         77\n",
       "88.0        69\n",
       "70.0        68\n",
       "92.0        66\n",
       "67.0        64\n",
       "75.0        58\n",
       "93.0        56\n",
       "83.0        55\n",
       "89.0        47\n",
       "60.0        45\n",
       "91.0        42\n",
       "86.0        40\n",
       "33.0        28\n",
       "87.0        20\n",
       "78.0        19\n",
       "40.0        16\n",
       "81.0        16\n",
       "79.0        15\n",
       "85.0        15\n",
       "82.0        15\n",
       "         ...  \n",
       "68.0         4\n",
       "17.0         4\n",
       "65.0         4\n",
       "72.0         3\n",
       "14.0         3\n",
       "11.0         3\n",
       "62.0         3\n",
       "20.0         2\n",
       "24.0         2\n",
       "29.0         2\n",
       "36.0         2\n",
       "54.0         2\n",
       "77.0         2\n",
       "59.0         2\n",
       "52.0         2\n",
       "44.0         2\n",
       "46.0         1\n",
       "74.0         1\n",
       "13.0         1\n",
       "38.0         1\n",
       "23.0         1\n",
       "58.0         1\n",
       "39.0         1\n",
       "66.0         1\n",
       "47.0         1\n",
       "53.0         1\n",
       "43.0         1\n",
       "4.0          1\n",
       "48.0         1\n",
       "61.0         1\n",
       "Name: host_response_rate, Length: 72, dtype: int64"
      ]
     },
     "execution_count": 33,
     "metadata": {},
     "output_type": "execute_result"
    }
   ],
   "source": [
    "#variable-36-host_response_rate\n",
    "train_x.host_response_rate.value_counts()\n",
    "train_x.host_response_rate = train_x.host_response_rate.str.replace('$','')\n",
    "train_x.host_response_rate = train_x.host_response_rate.str.replace('%','')\n",
    "train_x.host_response_rate = pd.to_numeric(train_x['host_response_rate'], errors='coerce')\n",
    "train_x.host_response_rate.fillna(100, inplace = True)\n",
    "train_x.host_response_rate.value_counts()"
   ]
  },
  {
   "cell_type": "code",
   "execution_count": 34,
   "metadata": {},
   "outputs": [
    {
     "data": {
      "text/plain": [
       "0.0    8608\n",
       "1.0    2140\n",
       "2.0    1291\n",
       "3.0     169\n",
       "Name: host_response_time, dtype: int64"
      ]
     },
     "execution_count": 34,
     "metadata": {},
     "output_type": "execute_result"
    }
   ],
   "source": [
    "#variable-37-host_response_time\n",
    "train_x.host_response_time = train_x.host_response_time.str.replace('$','')\n",
    "train_x.host_response_time.fillna('within an hour', inplace = True)\n",
    "train_x.host_response_time = train_x.host_response_time.str.replace('within an hour','0')\n",
    "train_x.host_response_time = train_x.host_response_time.str.replace('within a few hours','1')\n",
    "train_x.host_response_time = train_x.host_response_time.str.replace('within a day','2')\n",
    "train_x.host_response_time = train_x.host_response_time.str.replace('a few days or more','3')\n",
    "train_x.host_response_time = pd.to_numeric(train_x['host_response_time'], errors='coerce')\n",
    "train_x.host_response_time.fillna(0, inplace = True)\n",
    "train_x.host_response_time.value_counts()"
   ]
  },
  {
   "cell_type": "code",
   "execution_count": 35,
   "metadata": {},
   "outputs": [
    {
     "data": {
      "text/plain": [
       "2015.0    2515\n",
       "2014.0    2249\n",
       "2016.0    2051\n",
       "2013.0    1908\n",
       "2012.0    1408\n",
       "2011.0     818\n",
       "2017.0     811\n",
       "2010.0     306\n",
       "2009.0      83\n",
       "2018.0      40\n",
       "2008.0      19\n",
       "Name: year_host, dtype: int64"
      ]
     },
     "execution_count": 35,
     "metadata": {},
     "output_type": "execute_result"
    }
   ],
   "source": [
    "#variable-38-host_since\n",
    "train_x['host_since'] = pd.to_datetime(train_x['host_since'],errors='coerce')\n",
    "train_x['year_host'] = pd.DatetimeIndex(train_x['host_since']).year\n",
    "train_x.year_host = pd.to_numeric(train_x['year_host'], errors='coerce')\n",
    "train_x.year_host.fillna(train_x.year_host.mode()[0], inplace = True)\n",
    "train_x.year_host.value_counts()"
   ]
  },
  {
   "cell_type": "code",
   "execution_count": 36,
   "metadata": {
    "collapsed": true
   },
   "outputs": [],
   "source": [
    "#variable-39-host_total_listings_count\n",
    "train_x.host_total_listings_count = train_x.host_total_listings_count.str.replace('$','')\n",
    "train_x.host_total_listings_count = pd.to_numeric(train_x['host_total_listings_count'], errors='coerce')\n",
    "train_x.host_total_listings_count.fillna(1, inplace = True)"
   ]
  },
  {
   "cell_type": "code",
   "execution_count": 37,
   "metadata": {
    "collapsed": true
   },
   "outputs": [],
   "source": [
    "#variable-40-host_verifications\n",
    "train_x['verification'] = np.where(train_x['host_verifications'].str.contains(\n",
    "    'email' or 'phone' or 'google' or 'reviews' or 'jumio' or 'kba' or 'work_email' or \n",
    "    'facebook' or 'linkedin' or 'selfie' or 'identity_manual' or 'government_id' or \n",
    "    'amex' or 'offline_government_id'\n",
    "    or 'sent_id' or 'photographer' or 'sesame' or 'sesame_offline' or 'weibo'), 'yes', 'no')"
   ]
  },
  {
   "cell_type": "code",
   "execution_count": 38,
   "metadata": {
    "collapsed": true
   },
   "outputs": [],
   "source": [
    "train_x['host_verifications'] = train_x['host_verifications'].str.lower()"
   ]
  },
  {
   "cell_type": "code",
   "execution_count": 39,
   "metadata": {
    "collapsed": true
   },
   "outputs": [],
   "source": [
    "#variable-listing verifications\n",
    "train_x['Reviews'] = np.where(train_x['host_verifications'].str.contains('review'), 'yes', 'no')\n",
    "train_x['Email'] = np.where(train_x['host_verifications'].str.contains('email'), 'yes', 'no')\n",
    "train_x['Phone'] = np.where(train_x['host_verifications'].str.contains('phone'), 'yes', 'no')\n",
    "train_x['Facebook'] = np.where(train_x['host_verifications'].str.contains('facebook'), 'yes', 'no')"
   ]
  },
  {
   "cell_type": "code",
   "execution_count": 40,
   "metadata": {},
   "outputs": [
    {
     "data": {
      "text/plain": [
       "1.0    8496\n",
       "0.0    3712\n",
       "Name: house_rules, dtype: int64"
      ]
     },
     "execution_count": 40,
     "metadata": {},
     "output_type": "execute_result"
    }
   ],
   "source": [
    "#variable-41-house_rules\n",
    "train_x.house_rules.fillna('f', inplace = True)\n",
    "train_x.house_rules = train_x.house_rules.str.replace('f','0')\n",
    "train_x.house_rules = pd.to_numeric(train_x['house_rules'], errors='coerce')\n",
    "train_x.house_rules.fillna(1, inplace = True)\n",
    "train_x.house_rules.value_counts()"
   ]
  },
  {
   "cell_type": "code",
   "execution_count": 41,
   "metadata": {
    "collapsed": true
   },
   "outputs": [],
   "source": [
    "#variable-42-instant_bookable\n",
    "train_x.instant_bookable = train_x.instant_bookable.str.replace('$','')\n",
    "train_x.instant_bookable.fillna('f', inplace = True)\n",
    "train_x.instant_bookable = train_x.instant_bookable.str.replace('f','0')\n",
    "train_x.instant_bookable = train_x.instant_bookable.str.replace('t','1')\n",
    "train_x.instant_bookable = pd.to_numeric(train_x['instant_bookable'], errors='coerce')\n",
    "train_x.instant_bookable.fillna(0, inplace = True)"
   ]
  },
  {
   "cell_type": "code",
   "execution_count": 42,
   "metadata": {
    "collapsed": true
   },
   "outputs": [],
   "source": [
    "#variable-44-is_business_travel_ready\n",
    "train_x.is_business_travel_ready.value_counts()\n",
    "train_x.is_business_travel_ready = train_x.is_business_travel_ready.str.replace('$','')\n",
    "train_x.is_business_travel_ready = train_x.is_business_travel_ready.str.replace('f','0')\n",
    "train_x.is_business_travel_ready = train_x.is_business_travel_ready.str.replace('t','1')\n",
    "train_x.is_business_travel_ready = pd.to_numeric(train_x['is_business_travel_ready'], errors='coerce')\n",
    "train_x.is_business_travel_ready.fillna(0, inplace = True)"
   ]
  },
  {
   "cell_type": "code",
   "execution_count": 43,
   "metadata": {},
   "outputs": [
    {
     "data": {
      "text/plain": [
       "t    10225\n",
       "f     1983\n",
       "Name: is_location_exact, dtype: int64"
      ]
     },
     "execution_count": 43,
     "metadata": {},
     "output_type": "execute_result"
    }
   ],
   "source": [
    "#is_location_exact\n",
    "train_x.is_location_exact.value_counts()\n",
    "train_x.is_location_exact = train_x.is_location_exact.str.replace('$','')\n",
    "train_x.is_location_exact.fillna('t', inplace = True)\n",
    "train_x.is_location_exact.value_counts()"
   ]
  },
  {
   "cell_type": "code",
   "execution_count": 44,
   "metadata": {},
   "outputs": [
    {
     "data": {
      "text/plain": [
       "1125.0      6974\n",
       "30.0         724\n",
       "14.0         437\n",
       "7.0          395\n",
       "365.0        334\n",
       "90.0         297\n",
       "28.0         233\n",
       "60.0         232\n",
       "10.0         229\n",
       "29.0         222\n",
       "5.0          154\n",
       "21.0         151\n",
       "31.0         138\n",
       "15.0         135\n",
       "20.0         105\n",
       "180.0        103\n",
       "4.0           99\n",
       "3.0           96\n",
       "6.0           87\n",
       "120.0         78\n",
       "8.0           69\n",
       "25.0          66\n",
       "12.0          64\n",
       "45.0          47\n",
       "40.0          43\n",
       "100.0         42\n",
       "27.0          38\n",
       "9.0           36\n",
       "13.0          29\n",
       "35.0          27\n",
       "            ... \n",
       "109.0          1\n",
       "100000.0       1\n",
       "47.0           1\n",
       "126.0          1\n",
       "181.0          1\n",
       "183.0          1\n",
       "1118.0         1\n",
       "182.0          1\n",
       "39.0           1\n",
       "121.0          1\n",
       "750.0          1\n",
       "187.0          1\n",
       "280.0          1\n",
       "38.0           1\n",
       "900.0          1\n",
       "765.0          1\n",
       "225.0          1\n",
       "355.0          1\n",
       "1056.0         1\n",
       "11111.0        1\n",
       "222.0          1\n",
       "85.0           1\n",
       "77.0           1\n",
       "800.0          1\n",
       "52.0           1\n",
       "36.0           1\n",
       "352.0          1\n",
       "137.0          1\n",
       "186.0          1\n",
       "140.0          1\n",
       "Name: maximum_nights, Length: 151, dtype: int64"
      ]
     },
     "execution_count": 44,
     "metadata": {},
     "output_type": "execute_result"
    }
   ],
   "source": [
    "train_x.maximum_nights.value_counts()"
   ]
  },
  {
   "cell_type": "code",
   "execution_count": 45,
   "metadata": {
    "collapsed": true
   },
   "outputs": [],
   "source": [
    "#variable-51-maximum nights\n",
    "#train_x.maximum_nights = train_x.maximum_nights.str.replace('$','')\n",
    "train_x.maximum_nights = pd.to_numeric(train_x['maximum_nights'], errors='coerce')\n",
    "train_x.maximum_nights.fillna(1125, inplace = True)\n",
    "train_x['maximum_nights'] = np.where(train_x['maximum_nights'] >1125,1125,train_x['maximum_nights'])"
   ]
  },
  {
   "cell_type": "code",
   "execution_count": 46,
   "metadata": {
    "collapsed": true
   },
   "outputs": [],
   "source": [
    "#variable-52-minimum nights\n",
    "#train_x.minimum_nights = train_x.minimum_nights.str.replace('$','')\n",
    "train_x.minimum_nights = pd.to_numeric(train_x['minimum_nights'], errors='coerce')\n",
    "train_x.minimum_nights.fillna(1, inplace = True)"
   ]
  },
  {
   "cell_type": "code",
   "execution_count": 47,
   "metadata": {},
   "outputs": [
    {
     "data": {
      "text/plain": [
       "f    12014\n",
       "t      194\n",
       "Name: monthly_price, dtype: int64"
      ]
     },
     "execution_count": 47,
     "metadata": {},
     "output_type": "execute_result"
    }
   ],
   "source": [
    "#variable-53-monthly_price\n",
    "train_x.monthly_price = train_x.monthly_price.str.replace('$','')\n",
    "train_x.monthly_price = pd.to_numeric(train_x['monthly_price'], errors='coerce')\n",
    "train_x.monthly_price.fillna('f', inplace = True)\n",
    "train_x['monthly_price'] = np.where(~train_x['monthly_price'].astype(str).str.contains('f'), 't', 'f')\n",
    "train_x.monthly_price.value_counts()"
   ]
  },
  {
   "cell_type": "code",
   "execution_count": 48,
   "metadata": {},
   "outputs": [
    {
     "data": {
      "text/plain": [
       "1125.0    7008\n",
       "30.0       724\n",
       "14.0       437\n",
       "7.0        395\n",
       "365.0      334\n",
       "90.0       297\n",
       "28.0       233\n",
       "60.0       232\n",
       "10.0       229\n",
       "29.0       222\n",
       "5.0        154\n",
       "21.0       151\n",
       "31.0       138\n",
       "15.0       135\n",
       "20.0       105\n",
       "180.0      103\n",
       "4.0         99\n",
       "3.0         96\n",
       "6.0         87\n",
       "120.0       78\n",
       "8.0         69\n",
       "25.0        66\n",
       "12.0        64\n",
       "45.0        47\n",
       "40.0        43\n",
       "100.0       42\n",
       "27.0        38\n",
       "9.0         36\n",
       "13.0        29\n",
       "35.0        27\n",
       "          ... \n",
       "126.0        1\n",
       "39.0         1\n",
       "185.0        1\n",
       "81.0         1\n",
       "77.0         1\n",
       "225.0        1\n",
       "121.0        1\n",
       "48.0         1\n",
       "250.0        1\n",
       "900.0        1\n",
       "38.0         1\n",
       "355.0        1\n",
       "1056.0       1\n",
       "280.0        1\n",
       "182.0        1\n",
       "140.0        1\n",
       "222.0        1\n",
       "85.0         1\n",
       "800.0        1\n",
       "64.0         1\n",
       "52.0         1\n",
       "220.0        1\n",
       "760.0        1\n",
       "36.0         1\n",
       "352.0        1\n",
       "137.0        1\n",
       "187.0        1\n",
       "1123.0       1\n",
       "363.0        1\n",
       "109.0        1\n",
       "Name: maximum_nights, Length: 133, dtype: int64"
      ]
     },
     "execution_count": 48,
     "metadata": {},
     "output_type": "execute_result"
    }
   ],
   "source": [
    "train_x.maximum_nights.value_counts()"
   ]
  },
  {
   "cell_type": "code",
   "execution_count": 49,
   "metadata": {},
   "outputs": [
    {
     "data": {
      "text/plain": [
       "150.0    497\n",
       "100.0    404\n",
       "75.0     358\n",
       "50.0     312\n",
       "99.0     310\n",
       "125.0    280\n",
       "60.0     277\n",
       "65.0     269\n",
       "70.0     262\n",
       "200.0    255\n",
       "95.0     253\n",
       "80.0     248\n",
       "90.0     245\n",
       "85.0     244\n",
       "120.0    240\n",
       "55.0     208\n",
       "110.0    201\n",
       "175.0    197\n",
       "45.0     191\n",
       "250.0    190\n",
       "40.0     151\n",
       "115.0    140\n",
       "199.0    137\n",
       "300.0    135\n",
       "79.0     134\n",
       "89.0     132\n",
       "225.0    132\n",
       "140.0    132\n",
       "130.0    131\n",
       "69.0     118\n",
       "        ... \n",
       "311.0      1\n",
       "739.0      1\n",
       "537.0      1\n",
       "193.0      1\n",
       "277.0      1\n",
       "403.0      1\n",
       "237.0      1\n",
       "840.0      1\n",
       "332.0      1\n",
       "911.0      1\n",
       "647.0      1\n",
       "925.0      1\n",
       "649.0      1\n",
       "181.0      1\n",
       "697.0      1\n",
       "460.0      1\n",
       "342.0      1\n",
       "540.0      1\n",
       "644.0      1\n",
       "257.0      1\n",
       "439.0      1\n",
       "579.0      1\n",
       "202.0      1\n",
       "302.0      1\n",
       "570.0      1\n",
       "369.0      1\n",
       "890.0      1\n",
       "510.0      1\n",
       "323.0      1\n",
       "435.0      1\n",
       "Name: price, Length: 447, dtype: int64"
      ]
     },
     "execution_count": 49,
     "metadata": {},
     "output_type": "execute_result"
    }
   ],
   "source": [
    "#variable-58-price\n",
    "train_x.price = train_x.price.str.replace('$','')\n",
    "train_x.price = pd.to_numeric(train_x['price'], errors='coerce')\n",
    "train_x.price.fillna(train_x.price.mode()[0], inplace = True)\n",
    "train_x.price.value_counts()"
   ]
  },
  {
   "cell_type": "code",
   "execution_count": 50,
   "metadata": {},
   "outputs": [
    {
     "data": {
      "text/plain": [
       "150.0    497\n",
       "100.0    404\n",
       "75.0     358\n",
       "50.0     312\n",
       "99.0     310\n",
       "125.0    280\n",
       "60.0     277\n",
       "65.0     269\n",
       "70.0     262\n",
       "200.0    255\n",
       "95.0     253\n",
       "80.0     248\n",
       "90.0     245\n",
       "85.0     244\n",
       "120.0    240\n",
       "55.0     208\n",
       "110.0    201\n",
       "175.0    197\n",
       "45.0     191\n",
       "250.0    190\n",
       "40.0     151\n",
       "115.0    140\n",
       "199.0    137\n",
       "300.0    135\n",
       "79.0     134\n",
       "89.0     132\n",
       "225.0    132\n",
       "140.0    132\n",
       "130.0    131\n",
       "69.0     118\n",
       "        ... \n",
       "311.0      1\n",
       "739.0      1\n",
       "537.0      1\n",
       "193.0      1\n",
       "277.0      1\n",
       "403.0      1\n",
       "237.0      1\n",
       "840.0      1\n",
       "332.0      1\n",
       "911.0      1\n",
       "647.0      1\n",
       "925.0      1\n",
       "649.0      1\n",
       "181.0      1\n",
       "697.0      1\n",
       "460.0      1\n",
       "342.0      1\n",
       "540.0      1\n",
       "644.0      1\n",
       "257.0      1\n",
       "439.0      1\n",
       "579.0      1\n",
       "202.0      1\n",
       "302.0      1\n",
       "570.0      1\n",
       "369.0      1\n",
       "890.0      1\n",
       "510.0      1\n",
       "323.0      1\n",
       "435.0      1\n",
       "Name: price, Length: 447, dtype: int64"
      ]
     },
     "execution_count": 50,
     "metadata": {},
     "output_type": "execute_result"
    }
   ],
   "source": [
    "train_x.price.value_counts()"
   ]
  },
  {
   "cell_type": "code",
   "execution_count": 51,
   "metadata": {},
   "outputs": [
    {
     "data": {
      "text/plain": [
       "f    11704\n",
       "t      504\n",
       "Name: require_guest_phone_verification, dtype: int64"
      ]
     },
     "execution_count": 51,
     "metadata": {},
     "output_type": "execute_result"
    }
   ],
   "source": [
    "#variable-60-require_guest_phone_verification\n",
    "train_x.require_guest_phone_verification.fillna('f', inplace = True)\n",
    "train_x.require_guest_phone_verification.isnull().value_counts()\n",
    "train_x.require_guest_phone_verification.value_counts()"
   ]
  },
  {
   "cell_type": "code",
   "execution_count": 52,
   "metadata": {},
   "outputs": [
    {
     "data": {
      "text/plain": [
       "f    11793\n",
       "t      415\n",
       "Name: require_guest_profile_picture, dtype: int64"
      ]
     },
     "execution_count": 52,
     "metadata": {},
     "output_type": "execute_result"
    }
   ],
   "source": [
    "#variable-61-require_guest_profile_picture\n",
    "train_x.require_guest_profile_picture = train_x.require_guest_profile_picture.str.replace('$','')\n",
    "train_x.require_guest_profile_picture.fillna('f', inplace = True)\n",
    "train_x.require_guest_profile_picture.isnull().value_counts()\n",
    "train_x.require_guest_profile_picture.value_counts()"
   ]
  },
  {
   "cell_type": "code",
   "execution_count": 53,
   "metadata": {},
   "outputs": [
    {
     "data": {
      "text/plain": [
       "f    9871\n",
       "t    2337\n",
       "Name: requires_license, dtype: int64"
      ]
     },
     "execution_count": 53,
     "metadata": {},
     "output_type": "execute_result"
    }
   ],
   "source": [
    "#variable-62-requires_license\n",
    "train_x.requires_license = train_x.requires_license.str.replace('$','')\n",
    "train_x.requires_license.fillna('f', inplace = True)\n",
    "train_x.requires_license.isnull().value_counts()\n",
    "train_x.requires_license.value_counts()"
   ]
  },
  {
   "cell_type": "code",
   "execution_count": 54,
   "metadata": {},
   "outputs": [
    {
     "data": {
      "text/plain": [
       "t    6673\n",
       "f    5535\n",
       "Name: security_deposit, dtype: int64"
      ]
     },
     "execution_count": 54,
     "metadata": {},
     "output_type": "execute_result"
    }
   ],
   "source": [
    "#variable-64-security_deposit\n",
    "train_x.security_deposit = train_x.security_deposit.str.replace('$','')\n",
    "train_x.security_deposit = pd.to_numeric(train_x['security_deposit'], errors='coerce')\n",
    "train_x.security_deposit.fillna('f', inplace = True)\n",
    "train_x['security_deposit'] = np.where(~train_x['security_deposit'].astype(str).str.contains('f'), 't', 'f')\n",
    "train_x.security_deposit.value_counts()"
   ]
  },
  {
   "cell_type": "code",
   "execution_count": 55,
   "metadata": {},
   "outputs": [
    {
     "data": {
      "text/plain": [
       "Apartment             6649\n",
       "House                 3909\n",
       "Condominium            445\n",
       "Townhouse              314\n",
       "Loft                   225\n",
       "Guesthouse             110\n",
       "Other                  109\n",
       "Bed & Breakfast         68\n",
       "Bungalow                67\n",
       "Guest suite             61\n",
       "Camper/RV               28\n",
       "Dorm                    26\n",
       "Cabin                   25\n",
       "Villa                   24\n",
       "Serviced apartment      23\n",
       "Boutique hotel          23\n",
       "Hostel                  20\n",
       "Bed and breakfast       20\n",
       "In-law                  17\n",
       "Boat                     9\n",
       "Timeshare                6\n",
       "Vacation home            6\n",
       "Resort                   4\n",
       "Hotel                    3\n",
       "Castle                   3\n",
       "Earth House              2\n",
       "Treehouse                2\n",
       "Tent                     2\n",
       "Chalet                   1\n",
       "Hut                      1\n",
       "Tiny house               1\n",
       "Island                   1\n",
       "Earth house              1\n",
       "Cottage                  1\n",
       "Tipi                     1\n",
       "Yurt                     1\n",
       "Name: property_type, dtype: int64"
      ]
     },
     "execution_count": 55,
     "metadata": {},
     "output_type": "execute_result"
    }
   ],
   "source": [
    "extra.property_type.value_counts()"
   ]
  },
  {
   "cell_type": "code",
   "execution_count": 56,
   "metadata": {
    "collapsed": true
   },
   "outputs": [],
   "source": [
    "extra['state'] = extra['state'].str.replace('Ca', 'CA')\n",
    "extra['state'] = extra['state'].str.replace('ca', 'CA')\n",
    "#train_x.maximum_nights = train_x.maximum_nights.str.replace('$','')"
   ]
  },
  {
   "cell_type": "code",
   "execution_count": 57,
   "metadata": {
    "collapsed": true
   },
   "outputs": [],
   "source": [
    "#variable-59 - state and variable 68 - property type\n",
    "train_x.state = extra.state\n",
    "train_x.property_type = extra.property_type\n",
    "train_x.state = train_x.state.str.replace('$','')\n",
    "train_x.property_type = train_x.property_type.str.replace('$','')"
   ]
  },
  {
   "cell_type": "code",
   "execution_count": 58,
   "metadata": {
    "collapsed": true
   },
   "outputs": [],
   "source": [
    "train_x['property_type'] = np.where(train_x['property_type'].astype(str).str.contains('Bed & Breakfast'), \n",
    "                                 'bed and breakfast', train_x['property_type'])"
   ]
  },
  {
   "cell_type": "code",
   "execution_count": 59,
   "metadata": {},
   "outputs": [
    {
     "data": {
      "text/plain": [
       "Apartment             6649\n",
       "House                 3909\n",
       "Condominium            445\n",
       "Townhouse              314\n",
       "Loft                   225\n",
       "Guesthouse             110\n",
       "Other                  109\n",
       "bed and breakfast       68\n",
       "Bungalow                67\n",
       "Guest suite             61\n",
       "Camper/RV               28\n",
       "Dorm                    26\n",
       "Cabin                   25\n",
       "Villa                   24\n",
       "Serviced apartment      23\n",
       "Boutique hotel          23\n",
       "Hostel                  20\n",
       "Bed and breakfast       20\n",
       "In-law                  17\n",
       "Boat                     9\n",
       "Vacation home            6\n",
       "Timeshare                6\n",
       "Resort                   4\n",
       "Hotel                    3\n",
       "Castle                   3\n",
       "Treehouse                2\n",
       "Earth House              2\n",
       "Tent                     2\n",
       "Chalet                   1\n",
       "Hut                      1\n",
       "Tiny house               1\n",
       "Island                   1\n",
       "Earth house              1\n",
       "Cottage                  1\n",
       "Tipi                     1\n",
       "Yurt                     1\n",
       "Name: property_type, dtype: int64"
      ]
     },
     "execution_count": 59,
     "metadata": {},
     "output_type": "execute_result"
    }
   ],
   "source": [
    "train_x.property_type.value_counts()"
   ]
  },
  {
   "cell_type": "code",
   "execution_count": 60,
   "metadata": {},
   "outputs": [
    {
     "data": {
      "text/plain": [
       "Entire home/apt    7428\n",
       "Private room       4480\n",
       "Shared room         300\n",
       "Name: room_type, dtype: int64"
      ]
     },
     "execution_count": 60,
     "metadata": {},
     "output_type": "execute_result"
    }
   ],
   "source": [
    "#variable-63-room_type\n",
    "train_x.room_type.value_counts()\n",
    "train_x.room_type = train_x.room_type.str.replace('$','')\n",
    "train_x.room_type.fillna('Entire home/apt', inplace = True)\n",
    "train_x.room_type.value_counts()"
   ]
  },
  {
   "cell_type": "code",
   "execution_count": 61,
   "metadata": {
    "collapsed": true
   },
   "outputs": [],
   "source": [
    "train_x['transit'] = train_x['transit'].str.lower()"
   ]
  },
  {
   "cell_type": "code",
   "execution_count": 62,
   "metadata": {},
   "outputs": [
    {
     "data": {
      "text/plain": [
       "no     7712\n",
       "yes    4496\n",
       "Name: transit_available, dtype: int64"
      ]
     },
     "execution_count": 62,
     "metadata": {},
     "output_type": "execute_result"
    }
   ],
   "source": [
    "#variable-71-transit\n",
    "train_x['transit_available'] = np.where(train_x['transit'].str.contains('public transportation' or  'metro' or'bus' \n",
    "                                                           or 'line'), 'yes', 'no')\n",
    "train_x.transit_available.value_counts()"
   ]
  },
  {
   "cell_type": "code",
   "execution_count": 63,
   "metadata": {},
   "outputs": [
    {
     "data": {
      "text/plain": [
       "f    10105\n",
       "t     2103\n",
       "Name: weekly_price, dtype: int64"
      ]
     },
     "execution_count": 63,
     "metadata": {},
     "output_type": "execute_result"
    }
   ],
   "source": [
    "#variable-72-weekly_price\n",
    "train_x.weekly_price = train_x.weekly_price.str.replace('$','')\n",
    "train_x.weekly_price = pd.to_numeric(train_x['weekly_price'], errors='coerce')\n",
    "train_x.weekly_price.fillna('f', inplace = True)\n",
    "train_x['weekly_price'] = np.where(~train_x['weekly_price'].astype(str).str.contains('f'), 't', 'f')\n",
    "train_x.weekly_price.value_counts()"
   ]
  },
  {
   "cell_type": "code",
   "execution_count": 64,
   "metadata": {
    "collapsed": true
   },
   "outputs": [],
   "source": [
    "train_x.to_csv('test_may08-12am.csv', encoding='utf-8', index=False)"
   ]
  },
  {
   "cell_type": "code",
   "execution_count": 65,
   "metadata": {},
   "outputs": [
    {
     "ename": "NameError",
     "evalue": "name 'test_x' is not defined",
     "output_type": "error",
     "traceback": [
      "\u001b[1;31m---------------------------------------------------------------------------\u001b[0m",
      "\u001b[1;31mNameError\u001b[0m                                 Traceback (most recent call last)",
      "\u001b[1;32m<ipython-input-65-660565307530>\u001b[0m in \u001b[0;36m<module>\u001b[1;34m()\u001b[0m\n\u001b[1;32m----> 1\u001b[1;33m \u001b[0mtest_x\u001b[0m\u001b[1;33m.\u001b[0m\u001b[0mextra_people\u001b[0m\u001b[1;33m.\u001b[0m\u001b[0mvalue_counts\u001b[0m\u001b[1;33m(\u001b[0m\u001b[1;33m)\u001b[0m\u001b[1;33m\u001b[0m\u001b[0m\n\u001b[0m",
      "\u001b[1;31mNameError\u001b[0m: name 'test_x' is not defined"
     ]
    }
   ],
   "source": [
    "test_x.extra_people.value_counts()"
   ]
  }
 ],
 "metadata": {
  "kernelspec": {
   "display_name": "Python 3",
   "language": "python",
   "name": "python3"
  },
  "language_info": {
   "codemirror_mode": {
    "name": "ipython",
    "version": 3
   },
   "file_extension": ".py",
   "mimetype": "text/x-python",
   "name": "python",
   "nbconvert_exporter": "python",
   "pygments_lexer": "ipython3",
   "version": "3.6.1"
  }
 },
 "nbformat": 4,
 "nbformat_minor": 2
}
