{
 "cells": [
  {
   "cell_type": "code",
   "execution_count": 192,
   "metadata": {
    "collapsed": true
   },
   "outputs": [],
   "source": [
    "import pandas as pd\n",
    "import numpy as np\n",
    "import matplotlib.pyplot as plt\n",
    "import seaborn as sns\n",
    "%matplotlib inline"
   ]
  },
  {
   "cell_type": "code",
   "execution_count": 193,
   "metadata": {},
   "outputs": [
    {
     "name": "stderr",
     "output_type": "stream",
     "text": [
      "C:\\ProgramData\\Anaconda3\\lib\\site-packages\\IPython\\core\\interactiveshell.py:2717: DtypeWarning: Columns (28,43,45,69) have mixed types. Specify dtype option on import or set low_memory=False.\n",
      "  interactivity=interactivity, compiler=compiler, result=result)\n"
     ]
    }
   ],
   "source": [
    "data = pd.read_csv(\"train_x_may07_11pm.csv\")"
   ]
  },
  {
   "cell_type": "code",
   "execution_count": 194,
   "metadata": {},
   "outputs": [
    {
     "name": "stdout",
     "output_type": "stream",
     "text": [
      "<class 'pandas.core.frame.DataFrame'>\n",
      "RangeIndex: 100000 entries, 0 to 99999\n",
      "Columns: 103 entries, Unnamed: 0 to transit_available\n",
      "dtypes: float64(23), int64(2), object(78)\n",
      "memory usage: 78.6+ MB\n"
     ]
    }
   ],
   "source": [
    "data.info()"
   ]
  },
  {
   "cell_type": "code",
   "execution_count": 252,
   "metadata": {
    "collapsed": true
   },
   "outputs": [],
   "source": [
    "data['24-hour-check'] = data['24-hour-check'].astype('category')\n",
    "data[\"24-hour-check\"] = data[\"24-hour-check\"].cat.codes\n",
    "data['24-hour-check'] = data['24-hour-check'].astype('category')\n",
    "\n",
    "data.bed_type = data.bed_type.astype('category')\n",
    "data[\"bed_type\"] = data[\"bed_type\"].cat.codes\n",
    "data.bed_type = data.bed_type.astype('category')\n",
    "\n",
    "data.cancellation_policy = data.cancellation_policy.astype('category')\n",
    "data[\"cancellation_policy\"] = data[\"cancellation_policy\"].cat.codes\n",
    "data.cancellation_policy = data.cancellation_policy.astype('category')\n",
    "\n",
    "data.Wifi = data.Wifi.astype('category')\n",
    "data[\"Wifi\"] = data[\"Wifi\"].cat.codes\n",
    "data.Wifi = data.Wifi.astype('category')\n",
    "\n",
    "data.parking = data.parking.astype('category')\n",
    "data[\"parking\"] = data[\"parking\"].cat.codes\n",
    "data.parking = data.parking.astype('category')\n",
    "\n",
    "data.Kitchen = data.Kitchen.astype('category')\n",
    "data[\"Kitchen\"] = data[\"Kitchen\"].cat.codes\n",
    "data.Kitchen = data.Kitchen.astype('category')\n",
    "\n",
    "data.Breakfast = data.Breakfast.astype('category')\n",
    "data[\"Breakfast\"] = data[\"Breakfast\"].cat.codes\n",
    "data.Breakfast = data.Breakfast.astype('category')\n",
    "\n",
    "data.ac = data.ac.astype('category')\n",
    "data[\"ac\"] = data[\"ac\"].cat.codes\n",
    "data.ac = data.ac.astype('category')\n",
    "\n",
    "data.Heating = data.Heating.astype('category')\n",
    "data[\"Heating\"] = data[\"Heating\"].cat.codes\n",
    "data.Heating = data.Heating.astype('category')\n",
    "\n",
    "data.host_has_profile_pic = data.host_has_profile_pic.astype('category')\n",
    "data[\"host_has_profile_pic\"] = data[\"host_has_profile_pic\"].cat.codes\n",
    "data.host_has_profile_pic = data.host_has_profile_pic.astype('category')\n",
    "\n",
    "data.host_identity_verified = data.host_identity_verified.astype('category')\n",
    "data[\"host_identity_verified\"] = data[\"host_identity_verified\"].cat.codes\n",
    "data.host_identity_verified = data.host_identity_verified.astype('category')\n",
    "\n",
    "data.host_is_superhost = data.host_is_superhost.astype('category')\n",
    "data[\"host_is_superhost\"] = data[\"host_is_superhost\"].cat.codes\n",
    "data.host_is_superhost = data.host_is_superhost.astype('category')\n",
    "\n",
    "data.host_response_time = data.host_response_time.astype('category')\n",
    "data[\"host_response_time\"] = data[\"host_response_time\"].cat.codes\n",
    "data.host_response_time = data.host_response_time.astype('category')\n",
    "\n",
    "data.host_verifications = data.host_verifications.astype('category')\n",
    "data[\"host_verifications\"] = data[\"host_verifications\"].cat.codes\n",
    "data.host_verifications = data.host_verifications.astype('category')\n",
    "\n",
    "data.security_deposit = data.security_deposit.astype('category')\n",
    "data[\"security_deposit\"] = data[\"security_deposit\"].cat.codes\n",
    "data.security_deposit = data.security_deposit.astype('category')\n",
    "\n",
    "data.state = data.state.astype('category')\n",
    "data[\"state\"] = data[\"state\"].cat.codes\n",
    "data.state = data.state.astype('category')\n",
    "\n",
    "data.property_type=data.property_type.astype('category')\n",
    "data[\"property_type\"] = data[\"property_type\"].cat.codes\n",
    "data.property_type=data.property_type.astype('category')\n",
    "\n",
    "data.instant_bookable = data.instant_bookable.astype('category')\n",
    "data[\"instant_bookable\"] = data[\"instant_bookable\"].cat.codes\n",
    "data.instant_bookable = data.instant_bookable.astype('category')\n",
    "\n",
    "data.is_business_travel_ready = data.is_business_travel_ready.astype('category')\n",
    "data[\"is_business_travel_ready\"] = data[\"is_business_travel_ready\"].cat.codes\n",
    "data.is_business_travel_ready = data.is_business_travel_ready.astype('category')\n",
    "\n",
    "data.is_location_exact = data.is_location_exact.astype('category')\n",
    "data[\"is_location_exact\"] = data[\"is_location_exact\"].cat.codes\n",
    "data.is_location_exact = data.is_location_exact.astype('category')\n",
    "\n",
    "data.city = data.city.astype('category')\n",
    "data[\"city\"] = data[\"city\"].cat.codes\n",
    "data.city = data.city.astype('category')"
   ]
  },
  {
   "cell_type": "code",
   "execution_count": 253,
   "metadata": {
    "collapsed": true
   },
   "outputs": [],
   "source": [
    "data.room_type = data.room_type.astype('category')\n",
    "data[\"room_type\"] = data[\"room_type\"].cat.codes\n",
    "data.room_type = data.room_type.astype('category')"
   ]
  },
  {
   "cell_type": "code",
   "execution_count": 254,
   "metadata": {},
   "outputs": [],
   "source": [
    "data.room_type = data.room_type.astype('category')\n",
    "data[\"room_type\"] = data[\"room_type\"].cat.codes\n",
    "data.room_type = data.room_type.astype('category')\n",
    "\n",
    "data.year_first_review = data.year_first_review.astype('category')\n",
    "data[\"year_first_review\"] = data[\"year_first_review\"].cat.codes\n",
    "data.year_first_review = data.year_first_review.astype('category')\n",
    "\n",
    "data.year_host  = data.year_host .astype('category')\n",
    "data[\"year_host\"] = data[\"year_host\"].cat.codes\n",
    "data.year_host  = data.year_host .astype('category')\n",
    "\n",
    "data.transit_available = data.transit_available.astype('category')\n",
    "data[\"transit_available\"] = data[\"transit_available\"].cat.codes\n",
    "data.transit_available = data.transit_available.astype('category')\n",
    "\n",
    "data.Reviews = data.Reviews.astype('category')\n",
    "data[\"Reviews\"] = data[\"Reviews\"].cat.codes\n",
    "data.Reviews = data.Reviews.astype('category')\n",
    "\n",
    "data.weekly_price = data.weekly_price.astype('category')\n",
    "data[\"weekly_price\"] = data[\"weekly_price\"].cat.codes\n",
    "data.weekly_price = data.weekly_price.astype('category')\n",
    "\n",
    "data.monthly_price = data.monthly_price.astype('category')\n",
    "data[\"monthly_price\"] = data[\"monthly_price\"].cat.codes\n",
    "data.monthly_price = data.monthly_price.astype('category')\n",
    "\n",
    "data.house_rules = data.house_rules.astype('category')\n",
    "data[\"house_rules\"] = data[\"house_rules\"].cat.codes\n",
    "data.house_rules = data.house_rules.astype('category')\n",
    "\n",
    "data.verification = data.verification.astype('category')\n",
    "data[\"verification\"] = data[\"verification\"].cat.codes\n",
    "data.verification = data.verification.astype('category')\n",
    "\n",
    "data.Email = data.Email.astype('category')\n",
    "data[\"Email\"] = data[\"Email\"].cat.codes\n",
    "data.Email = data.Email.astype('category')\n",
    "\n",
    "data.Phone = data.Phone.astype('category')\n",
    "data[\"Phone\"] = data[\"Phone\"].cat.codes\n",
    "data.Phone = data.Phone.astype('category')\n",
    "\n",
    "data.Facebook = data.Facebook.astype('category')\n",
    "data[\"Facebook\"] = data[\"Facebook\"].cat.codes\n",
    "data.Facebook = data.Facebook.astype('category')\n",
    "\n",
    "data.require_guest_phone_verification = data.require_guest_phone_verification.astype('category')\n",
    "data[\"require_guest_phone_verification\"] = data[\"require_guest_phone_verification\"].cat.codes\n",
    "data.require_guest_phone_verification = data.require_guest_phone_verification.astype('category')\n",
    "\n",
    "data.require_guest_profile_picture  = data.require_guest_profile_picture.astype('category')\n",
    "data[\"require_guest_profile_picture\"] = data[\"require_guest_profile_picture\"].cat.codes\n",
    "data.require_guest_profile_picture  = data.require_guest_profile_picture.astype('category')\n",
    "\n",
    "data.Reviews = data.Reviews.astype('category')\n",
    "data[\"Reviews\"] = data[\"Reviews\"].cat.codes\n",
    "data.Reviews = data.Reviews.astype('category')"
   ]
  },
  {
   "cell_type": "code",
   "execution_count": 255,
   "metadata": {
    "collapsed": true
   },
   "outputs": [],
   "source": [
    "data.hair_dryer = data.hair_dryer.astype('category')\n",
    "data[\"hair_dryer\"] = data[\"hair_dryer\"].cat.codes\n",
    "data.hair_dryer = data.hair_dryer.astype('category')\n",
    "\n",
    "data.hangers = data.hangers.astype('category')\n",
    "data[\"hangers\"] = data[\"hangers\"].cat.codes\n",
    "data.hangers = data.hangers.astype('category')\n",
    "\n",
    "data.iron = data.iron.astype('category')\n",
    "data[\"iron\"] = data[\"iron\"].cat.codes\n",
    "data.iron = data.iron.astype('category')\n",
    "\n",
    "data.laptop = data.laptop.astype('category')\n",
    "data[\"laptop\"] = data[\"laptop\"].cat.codes\n",
    "data.laptop = data.laptop.astype('category')\n",
    "\n",
    "data.shampoo = data.shampoo.astype('category')\n",
    "data[\"shampoo\"] = data[\"shampoo\"].cat.codes\n",
    "data.shampoo = data.shampoo.astype('category')\n",
    "\n",
    "data.essentials = data.essentials.astype('category')\n",
    "data[\"essentials\"] = data[\"essentials\"].cat.codes\n",
    "data.essentials = data.essentials.astype('category')\n",
    "\n",
    "data.washer = data.washer.astype('category')\n",
    "data[\"washer\"] = data[\"washer\"].cat.codes\n",
    "data.washer = data.washer.astype('category')\n",
    "\n",
    "data.dryer = data.dryer.astype('category')\n",
    "data[\"dryer\"] = data[\"dryer\"].cat.codes\n",
    "data.dryer = data.dryer.astype('category')\n",
    "\n",
    "data.tv = data.tv.astype('category')\n",
    "data[\"tv\"] = data[\"tv\"].cat.codes\n",
    "data.tv = data.tv.astype('category')\n",
    "\n",
    "data.pool = data.pool.astype('category')\n",
    "data[\"pool\"] = data[\"pool\"].cat.codes\n",
    "data.pool = data.pool.astype('category')\n",
    "\n",
    "data.gym = data.gym.astype('category')\n",
    "data[\"gym\"] = data[\"gym\"].cat.codes\n",
    "data.gym = data.gym.astype('category')\n",
    "\n",
    "data['hot tub'] = data['hot tub'].astype('category')\n",
    "data[\"hot tub\"] = data[\"hot tub\"].cat.codes\n",
    "data['hot tub'] = data['hot tub'].astype('category')\n",
    "\n",
    "data.cable = data.cable.astype('category')\n",
    "data[\"cable\"] = data[\"cable\"].cat.codes\n",
    "data.cable = data.cable.astype('category')\n",
    "\n",
    "data.wireless = data.wireless.astype('category')\n",
    "data[\"wireless\"] = data[\"wireless\"].cat.codes\n",
    "data.wireless = data.wireless.astype('category')\n",
    "\n",
    "data.internet = data.internet.astype('category')\n",
    "data[\"internet\"] = data[\"internet\"].cat.codes\n",
    "data.internet = data.internet.astype('category')\n",
    "\n",
    "data['family/kid friendly'] = data['family/kid friendly'].astype('category')\n",
    "data['family/kid friendly'] = data['family/kid friendly'].cat.codes\n",
    "data['family/kid friendly'] = data['family/kid friendly'].astype('category')\n",
    "\n",
    "data.elevator = data.elevator.astype('category')\n",
    "data[\"elevator\"] = data[\"elevator\"].cat.codes\n",
    "data.elevator = data.elevator.astype('category')\n"
   ]
  },
  {
   "cell_type": "code",
   "execution_count": 199,
   "metadata": {
    "collapsed": true
   },
   "outputs": [],
   "source": [
    "from sklearn.model_selection import train_test_split\n",
    "from sklearn.linear_model import LogisticRegression\n",
    "from sklearn.metrics import accuracy_score\n",
    "from sklearn.metrics import classification_report\n"
   ]
  },
  {
   "cell_type": "code",
   "execution_count": 200,
   "metadata": {},
   "outputs": [],
   "source": [
    "train_y = pd.read_csv(\"airbnb_train_y.csv\")"
   ]
  },
  {
   "cell_type": "code",
   "execution_count": 201,
   "metadata": {},
   "outputs": [
    {
     "data": {
      "text/plain": [
       "False    100000\n",
       "Name: high_booking_rate, dtype: int64"
      ]
     },
     "execution_count": 201,
     "metadata": {},
     "output_type": "execute_result"
    }
   ],
   "source": [
    "train_y.high_booking_rate = pd.to_numeric(train_y['high_booking_rate'], errors='coerce')\n",
    "train_y.high_booking_rate .fillna(train_y.high_booking_rate.mode()[0], inplace = True)\n",
    "train_y.high_booking_rate.isnull().value_counts()"
   ]
  },
  {
   "cell_type": "code",
   "execution_count": 68,
   "metadata": {},
   "outputs": [],
   "source": [
    "X = data[['accommodates','availability_30', 'availability_90', 'year_host',\n",
    "          'availability_365','cleaning_fee','bathrooms', 'Kitchen', '24-hour-check','Heating','bedrooms',\n",
    "          'cancellation_policy', 'price', 'year_host', 'state','year_first_review',\n",
    "         'host_has_profile_pic', 'host_is_superhost', 'host_response_time',\n",
    "     'minimum_nights','instant_bookable', 'is_business_travel_ready',\n",
    "         'is_location_exact', 'room_type','monthly_price', 'require_guest_phone_verification', 'Phone', 'Email', 'verification',\n",
    "        'weekly_price','transit_available', 'hair_dryer','hangers','iron','laptop','shampoo','essentials',\n",
    "         'washer','dryer','tv','family/kid friendly','elevator']]\n",
    "y = train_y['high_booking_rate']"
   ]
  },
  {
   "cell_type": "code",
   "execution_count": 244,
   "metadata": {},
   "outputs": [],
   "source": [
    "X = data[['accommodates', 'availability_30',  'availability_90', 'availability_365','bathrooms','bed_type',\n",
    "             'cleaning_fee', 'Wifi', 'parking', 'Kitchen', '24-hour-check', 'Breakfast', 'ac', 'Heating', 'property_type', 'price', \n",
    "             'bedrooms','security_deposit','state', 'cancellation_policy', 'extra_people', 'guests_included',\n",
    "         'host_has_profile_pic', 'host_identity_verified', 'host_is_superhost', 'host_response_rate', 'host_response_time',\n",
    "        'host_total_listings_count', 'maximum_nights', 'minimum_nights', 'instant_bookable', 'is_business_travel_ready',\n",
    "         'is_location_exact', 'room_type', 'city', 'monthly_price','year_host','year_first_review',\n",
    "           'require_guest_phone_verification', 'Facebook', 'Phone', 'Email', 'verification',\n",
    "          'house_rules', 'weekly_price','transit_available', 'hair_dryer','hangers','iron','laptop','shampoo','essentials',\n",
    "         'washer','dryer','tv','pool','gym','hot tub','cable','wireless','internet','family/kid friendly','elevator']]\n",
    "y = train_y['high_booking_rate']"
   ]
  },
  {
   "cell_type": "code",
   "execution_count": 245,
   "metadata": {
    "collapsed": true
   },
   "outputs": [],
   "source": [
    "X_train, X_test, y_train, y_test = train_test_split(X, y, test_size=0.30, random_state=42)"
   ]
  },
  {
   "cell_type": "code",
   "execution_count": 246,
   "metadata": {
    "collapsed": true
   },
   "outputs": [],
   "source": [
    "from sklearn.ensemble import RandomForestClassifier\n",
    "rfc = RandomForestClassifier(n_estimators=600)\n",
    "from sklearn.model_selection import train_test_split"
   ]
  },
  {
   "cell_type": "code",
   "execution_count": 247,
   "metadata": {},
   "outputs": [
    {
     "data": {
      "text/plain": [
       "RandomForestClassifier(bootstrap=True, class_weight=None, criterion='gini',\n",
       "            max_depth=None, max_features='auto', max_leaf_nodes=None,\n",
       "            min_impurity_split=1e-07, min_samples_leaf=1,\n",
       "            min_samples_split=2, min_weight_fraction_leaf=0.0,\n",
       "            n_estimators=600, n_jobs=1, oob_score=False, random_state=None,\n",
       "            verbose=0, warm_start=False)"
      ]
     },
     "execution_count": 247,
     "metadata": {},
     "output_type": "execute_result"
    }
   ],
   "source": [
    "rfc.fit(X_train,y_train)"
   ]
  },
  {
   "cell_type": "code",
   "execution_count": 261,
   "metadata": {},
   "outputs": [
    {
     "ename": "TypeError",
     "evalue": "predict() got an unexpected keyword argument 'cutoff'",
     "output_type": "error",
     "traceback": [
      "\u001b[1;31m---------------------------------------------------------------------------\u001b[0m",
      "\u001b[1;31mTypeError\u001b[0m                                 Traceback (most recent call last)",
      "\u001b[1;32m<ipython-input-261-3662c8ef0255>\u001b[0m in \u001b[0;36m<module>\u001b[1;34m()\u001b[0m\n\u001b[1;32m----> 1\u001b[1;33m \u001b[0mpredictions\u001b[0m \u001b[1;33m=\u001b[0m \u001b[0mrfc\u001b[0m\u001b[1;33m.\u001b[0m\u001b[0mpredict\u001b[0m\u001b[1;33m(\u001b[0m\u001b[0mX_test\u001b[0m\u001b[1;33m,\u001b[0m \u001b[0mcutoff\u001b[0m\u001b[1;33m=\u001b[0m\u001b[1;36m0.55\u001b[0m\u001b[1;33m)\u001b[0m\u001b[1;33m\u001b[0m\u001b[0m\n\u001b[0m",
      "\u001b[1;31mTypeError\u001b[0m: predict() got an unexpected keyword argument 'cutoff'"
     ]
    }
   ],
   "source": [
    "predictions = rfc.predict(X_test, cutoff=0.55)"
   ]
  },
  {
   "cell_type": "code",
   "execution_count": 249,
   "metadata": {},
   "outputs": [
    {
     "data": {
      "text/plain": [
       "0.83296666666666663"
      ]
     },
     "execution_count": 249,
     "metadata": {},
     "output_type": "execute_result"
    }
   ],
   "source": [
    "from sklearn.metrics import accuracy_score\n",
    "accuracy_score(y_test, predictions)"
   ]
  },
  {
   "cell_type": "code",
   "execution_count": 250,
   "metadata": {
    "collapsed": true
   },
   "outputs": [],
   "source": [
    "data = pd.read_csv('test_may08-12am.csv')"
   ]
  },
  {
   "cell_type": "code",
   "execution_count": 256,
   "metadata": {
    "collapsed": true
   },
   "outputs": [],
   "source": [
    "X_test_data = data[['accommodates', 'availability_30',  'availability_90', 'availability_365','bathrooms','bed_type',\n",
    "             'cleaning_fee', 'Wifi', 'parking', 'Kitchen', '24-hour-check', 'Breakfast', 'ac', 'Heating', 'property_type', 'price', \n",
    "             'bedrooms','security_deposit','state', 'cancellation_policy', 'extra_people', 'guests_included',\n",
    "         'host_has_profile_pic', 'host_identity_verified', 'host_is_superhost', 'host_response_rate', 'host_response_time',\n",
    "        'host_total_listings_count', 'maximum_nights', 'minimum_nights', 'instant_bookable', 'is_business_travel_ready',\n",
    "         'is_location_exact', 'room_type', 'city', 'monthly_price','year_host','year_first_review',\n",
    "           'require_guest_phone_verification', 'Facebook', 'Phone', 'Email', 'verification',\n",
    "          'house_rules', 'weekly_price','transit_available', 'hair_dryer','hangers','iron','laptop','shampoo','essentials',\n",
    "         'washer','dryer','tv','pool','gym','hot tub','cable','wireless','internet','family/kid friendly','elevator']]"
   ]
  },
  {
   "cell_type": "code",
   "execution_count": 257,
   "metadata": {
    "collapsed": true
   },
   "outputs": [],
   "source": [
    "test_pred = rfc.predict(X_test_data)"
   ]
  },
  {
   "cell_type": "code",
   "execution_count": 258,
   "metadata": {
    "collapsed": true
   },
   "outputs": [],
   "source": [
    "test_pred_df = pd.DataFrame(test_pred)"
   ]
  },
  {
   "cell_type": "code",
   "execution_count": 259,
   "metadata": {},
   "outputs": [
    {
     "data": {
      "text/plain": [
       "0.0    10221\n",
       "1.0     1987\n",
       "Name: 0, dtype: int64"
      ]
     },
     "execution_count": 259,
     "metadata": {},
     "output_type": "execute_result"
    }
   ],
   "source": [
    "test_pred_df[0].value_counts()"
   ]
  },
  {
   "cell_type": "code",
   "execution_count": 260,
   "metadata": {
    "collapsed": true
   },
   "outputs": [],
   "source": [
    "test_pred_df[0].to_csv('Outliers_high_booking_rate_predictions-may08.csv', encoding='utf-8', index=False)"
   ]
  }
 ],
 "metadata": {
  "kernelspec": {
   "display_name": "Python 3",
   "language": "python",
   "name": "python3"
  },
  "language_info": {
   "codemirror_mode": {
    "name": "ipython",
    "version": 3
   },
   "file_extension": ".py",
   "mimetype": "text/x-python",
   "name": "python",
   "nbconvert_exporter": "python",
   "pygments_lexer": "ipython3",
   "version": "3.6.1"
  }
 },
 "nbformat": 4,
 "nbformat_minor": 2
}
