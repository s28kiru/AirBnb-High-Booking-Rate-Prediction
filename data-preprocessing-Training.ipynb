{
 "cells": [
  {
   "cell_type": "code",
   "execution_count": 1,
   "metadata": {
    "collapsed": true
   },
   "outputs": [],
   "source": [
    "import numpy as np\n",
    "import pandas as pd\n",
    "import matplotlib.pyplot as plt\n",
    "import seaborn as sns\n",
    "% matplotlib inline"
   ]
  },
  {
   "cell_type": "code",
   "execution_count": 2,
   "metadata": {},
   "outputs": [
    {
     "name": "stderr",
     "output_type": "stream",
     "text": [
      "C:\\ProgramData\\Anaconda3\\lib\\site-packages\\IPython\\core\\interactiveshell.py:2717: DtypeWarning: Columns (2,4,6,7,8,10,11,28,35,43,45,69) have mixed types. Specify dtype option on import or set low_memory=False.\n",
      "  interactivity=interactivity, compiler=compiler, result=result)\n"
     ]
    }
   ],
   "source": [
    "train_x =pd.read_csv(\"airbnb_train_x.csv\")"
   ]
  },
  {
   "cell_type": "code",
   "execution_count": 3,
   "metadata": {},
   "outputs": [
    {
     "name": "stdout",
     "output_type": "stream",
     "text": [
      "<class 'pandas.core.frame.DataFrame'>\n",
      "RangeIndex: 100000 entries, 0 to 99999\n",
      "Data columns (total 70 columns):\n",
      "Unnamed: 0                          100000 non-null int64\n",
      "access                              65564 non-null object\n",
      "accommodates                        100000 non-null object\n",
      "amenities                           100000 non-null object\n",
      "availability_30                     100000 non-null object\n",
      "availability_365                    100000 non-null int64\n",
      "availability_60                     100000 non-null object\n",
      "availability_90                     100000 non-null object\n",
      "bathrooms                           99754 non-null object\n",
      "bed_type                            99999 non-null object\n",
      "bedrooms                            99907 non-null object\n",
      "beds                                99917 non-null object\n",
      "cancellation_policy                 100000 non-null object\n",
      "city                                99951 non-null object\n",
      "city_name                           99999 non-null object\n",
      "cleaning_fee                        81676 non-null object\n",
      "country                             99999 non-null object\n",
      "country_code                        99993 non-null object\n",
      "description                         99973 non-null object\n",
      "experiences_offered                 99997 non-null object\n",
      "extra_people                        100000 non-null object\n",
      "first_review                        99992 non-null object\n",
      "guests_included                     100000 non-null float64\n",
      "host_about                          69188 non-null object\n",
      "host_acceptance_rate                8242 non-null object\n",
      "host_has_profile_pic                99858 non-null object\n",
      "host_identity_verified              99852 non-null object\n",
      "host_is_superhost                   99858 non-null object\n",
      "host_listings_count                 99855 non-null object\n",
      "host_location                       99589 non-null object\n",
      "host_name                           99853 non-null object\n",
      "host_neighbourhood                  82767 non-null object\n",
      "host_response_rate                  84206 non-null object\n",
      "host_response_time                  84206 non-null object\n",
      "host_since                          99858 non-null object\n",
      "host_total_listings_count           99858 non-null object\n",
      "host_verifications                  99990 non-null object\n",
      "house_rules                         69607 non-null object\n",
      "instant_bookable                    99988 non-null object\n",
      "interaction                         64120 non-null object\n",
      "is_business_travel_ready            55449 non-null object\n",
      "is_location_exact                   99981 non-null object\n",
      "jurisdiction_names                  47310 non-null object\n",
      "latitude                            99990 non-null object\n",
      "license                             14279 non-null object\n",
      "longitude                           99989 non-null object\n",
      "market                              99567 non-null object\n",
      "maximum_nights                      99990 non-null float64\n",
      "minimum_nights                      99990 non-null float64\n",
      "monthly_price                       20564 non-null object\n",
      "name                                99967 non-null object\n",
      "neighborhood_overview               69257 non-null object\n",
      "neighbourhood                       86447 non-null object\n",
      "notes                               51467 non-null object\n",
      "price                               99981 non-null object\n",
      "property_type                       99980 non-null object\n",
      "require_guest_phone_verification    99981 non-null object\n",
      "require_guest_profile_picture       99981 non-null object\n",
      "requires_license                    99981 non-null object\n",
      "room_type                           99981 non-null object\n",
      "security_deposit                    59352 non-null object\n",
      "smart_location                      99980 non-null object\n",
      "space                               78955 non-null object\n",
      "square_feet                         1581 non-null float64\n",
      "state                               99978 non-null object\n",
      "street                              99981 non-null object\n",
      "summary                             97036 non-null object\n",
      "transit                             70833 non-null object\n",
      "weekly_price                        24105 non-null object\n",
      "zipcode                             98951 non-null object\n",
      "dtypes: float64(4), int64(2), object(64)\n",
      "memory usage: 53.4+ MB\n"
     ]
    }
   ],
   "source": [
    "train_x.info()"
   ]
  },
  {
   "cell_type": "code",
   "execution_count": 4,
   "metadata": {
    "collapsed": true
   },
   "outputs": [],
   "source": [
    "#variable-2-not considered"
   ]
  },
  {
   "cell_type": "code",
   "execution_count": 5,
   "metadata": {
    "scrolled": true
   },
   "outputs": [
    {
     "data": {
      "text/plain": [
       "False    100000\n",
       "Name: accommodates, dtype: int64"
      ]
     },
     "execution_count": 5,
     "metadata": {},
     "output_type": "execute_result"
    }
   ],
   "source": [
    "#variable-3-accommodates\n",
    "train_x.accommodates.isnull().value_counts()\n",
    "train_x.accommodates = pd.to_numeric(train_x['accommodates'], errors='coerce')\n",
    "train_x.accommodates.isnull().value_counts()\n",
    "train_x.accommodates.fillna(train_x.accommodates.mode()[0], inplace = True)\n",
    "train_x.accommodates.isnull().value_counts()"
   ]
  },
  {
   "cell_type": "code",
   "execution_count": 6,
   "metadata": {},
   "outputs": [],
   "source": [
    "train_x['amenities'] = train_x['amenities'].str.lower()"
   ]
  },
  {
   "cell_type": "code",
   "execution_count": null,
   "metadata": {
    "collapsed": true
   },
   "outputs": [],
   "source": []
  },
  {
   "cell_type": "code",
   "execution_count": 7,
   "metadata": {
    "collapsed": true
   },
   "outputs": [],
   "source": [
    "#variable-4-amenities\n",
    "train_x['Wifi'] = np.where(train_x['amenities'].str.contains('wifi'), 'yes', 'no')\n",
    "train_x['parking'] = np.where(train_x['amenities'].str.contains('parking'), 'yes', 'no')\n",
    "train_x['Kitchen'] = np.where(train_x['amenities'].str.contains('kitchen'), 'yes', 'no')\n",
    "train_x['24-hour-check'] = np.where(train_x['amenities'].str.contains('24-hour check-in'), 'yes', 'no')\n",
    "train_x['Breakfast'] = np.where(train_x['amenities'].str.contains('breakfast'), 'yes', 'no')\n",
    "train_x['ac'] = np.where(train_x['amenities'].str.contains('air conditioning'), 'yes', 'no')\n",
    "train_x['Heating'] = np.where(train_x['amenities'].str.contains('heating'), 'yes', 'no')"
   ]
  },
  {
   "cell_type": "code",
   "execution_count": 8,
   "metadata": {
    "collapsed": true
   },
   "outputs": [],
   "source": [
    "train_x['hair_dryer'] = np.where(train_x['amenities'].str.contains('hair dryer'), 'yes', 'no')\n",
    "train_x['hangers'] = np.where(train_x['amenities'].str.contains('hangers'), 'yes', 'no')\n",
    "train_x['iron'] = np.where(train_x['amenities'].str.contains('iron'), 'yes', 'no')\n",
    "train_x['laptop'] = np.where(train_x['amenities'].str.contains('laptop friendly workspace'), 'yes', 'no')\n",
    "train_x['shampoo'] = np.where(train_x['amenities'].str.contains('shampoo'), 'yes', 'no')\n",
    "train_x['essentials'] = np.where(train_x['amenities'].str.contains('essentials'), 'yes', 'no')\n",
    "train_x['washer'] = np.where(train_x['amenities'].str.contains('washer'), 'yes', 'no')\n",
    "train_x['dryer'] = np.where(train_x['amenities'].str.contains('dryer'), 'yes', 'no')\n",
    "train_x['tv'] = np.where(train_x['amenities'].str.contains('tv'), 'yes', 'no')\n",
    "train_x['pool'] = np.where(train_x['amenities'].str.contains('pool'), 'yes', 'no')\n",
    "train_x['gym'] = np.where(train_x['amenities'].str.contains('gym'), 'yes', 'no')\n",
    "train_x['hot tub'] = np.where(train_x['amenities'].str.contains('hot tub'), 'yes', 'no')\n",
    "train_x['cable'] = np.where(train_x['amenities'].str.contains('cable'), 'yes', 'no')\n",
    "train_x['wireless'] = np.where(train_x['amenities'].str.contains('wireless'), 'yes', 'no')\n",
    "train_x['internet'] = np.where(train_x['amenities'].str.contains('internet'), 'yes', 'no')\n",
    "train_x['family/kid friendly'] = np.where(train_x['amenities'].str.contains('family/kid friendly'), 'yes', 'no')\n",
    "train_x['elevator'] = np.where(train_x['amenities'].str.contains('elevator'), 'yes', 'no')"
   ]
  },
  {
   "cell_type": "code",
   "execution_count": 9,
   "metadata": {},
   "outputs": [
    {
     "data": {
      "text/plain": [
       "False    100000\n",
       "Name: availability_30, dtype: int64"
      ]
     },
     "execution_count": 9,
     "metadata": {},
     "output_type": "execute_result"
    }
   ],
   "source": [
    "#variable-5-availability_30\n",
    "train_x.availability_30 = pd.to_numeric(train_x['availability_30'], errors='coerce')\n",
    "train_x.availability_30.fillna(train_x.availability_30.mode()[0], inplace = True)\n",
    "train_x.availability_30.isnull().value_counts()"
   ]
  },
  {
   "cell_type": "code",
   "execution_count": 10,
   "metadata": {
    "collapsed": true
   },
   "outputs": [],
   "source": [
    "#variable-6-availability-365-completely clean"
   ]
  },
  {
   "cell_type": "code",
   "execution_count": 11,
   "metadata": {},
   "outputs": [
    {
     "data": {
      "text/plain": [
       "False    100000\n",
       "Name: availability_60, dtype: int64"
      ]
     },
     "execution_count": 11,
     "metadata": {},
     "output_type": "execute_result"
    }
   ],
   "source": [
    "#variable-7-availability_60\n",
    "train_x.availability_60 = pd.to_numeric(train_x['availability_60'], errors='coerce')\n",
    "train_x.availability_60.fillna(train_x.availability_60.mode()[0], inplace = True)\n",
    "train_x.availability_60.isnull().value_counts()"
   ]
  },
  {
   "cell_type": "code",
   "execution_count": 12,
   "metadata": {},
   "outputs": [
    {
     "data": {
      "text/plain": [
       "False    100000\n",
       "Name: availability_90, dtype: int64"
      ]
     },
     "execution_count": 12,
     "metadata": {},
     "output_type": "execute_result"
    }
   ],
   "source": [
    "#variable-8-availability_90\n",
    "train_x.availability_90 = pd.to_numeric(train_x['availability_90'], errors='coerce')\n",
    "train_x.availability_90.fillna(train_x.availability_90.mode()[0], inplace = True)\n",
    "train_x.availability_90.isnull().value_counts()"
   ]
  },
  {
   "cell_type": "code",
   "execution_count": 13,
   "metadata": {},
   "outputs": [
    {
     "data": {
      "text/plain": [
       "False    100000\n",
       "Name: bathrooms, dtype: int64"
      ]
     },
     "execution_count": 13,
     "metadata": {},
     "output_type": "execute_result"
    }
   ],
   "source": [
    "#variable-9-bathroom\n",
    "train_x.bathrooms = pd.to_numeric(train_x['bathrooms'], errors='coerce')\n",
    "train_x.bathrooms.fillna(1, inplace = True)\n",
    "train_x.bathrooms.isnull().value_counts()"
   ]
  },
  {
   "cell_type": "code",
   "execution_count": 14,
   "metadata": {},
   "outputs": [
    {
     "data": {
      "text/plain": [
       "False    100000\n",
       "Name: bed_type, dtype: int64"
      ]
     },
     "execution_count": 14,
     "metadata": {},
     "output_type": "execute_result"
    }
   ],
   "source": [
    "#variable-10-bed_type\n",
    "train_x.bed_type = train_x.bed_type.str.replace('(\\d+)%','Real Bed')\n",
    "train_x.bed_type.fillna('Real Bed', inplace = True)\n",
    "train_x.bed_type.isnull().value_counts()"
   ]
  },
  {
   "cell_type": "code",
   "execution_count": 15,
   "metadata": {},
   "outputs": [
    {
     "data": {
      "text/plain": [
       "False    100000\n",
       "Name: bedrooms, dtype: int64"
      ]
     },
     "execution_count": 15,
     "metadata": {},
     "output_type": "execute_result"
    }
   ],
   "source": [
    "#variable-11-bedrooms\n",
    "train_x.bedrooms = pd.to_numeric(train_x['bedrooms'], errors='coerce')\n",
    "train_x.bedrooms.fillna(1, inplace = True)\n",
    "train_x.bedrooms.isnull().value_counts()"
   ]
  },
  {
   "cell_type": "code",
   "execution_count": 16,
   "metadata": {},
   "outputs": [
    {
     "data": {
      "text/plain": [
       "False    100000\n",
       "Name: beds, dtype: int64"
      ]
     },
     "execution_count": 16,
     "metadata": {},
     "output_type": "execute_result"
    }
   ],
   "source": [
    "#variable-12-beds\n",
    "train_x.beds = pd.to_numeric(train_x['beds'], errors='coerce')\n",
    "train_x.beds.fillna(1, inplace = True)\n",
    "train_x.beds.isnull().value_counts()"
   ]
  },
  {
   "cell_type": "code",
   "execution_count": 17,
   "metadata": {},
   "outputs": [
    {
     "data": {
      "text/plain": [
       "strict         47385\n",
       "moderate       30411\n",
       "flexible       21837\n",
       "very_strict      367\n",
       "Name: cancellation_policy, dtype: int64"
      ]
     },
     "execution_count": 17,
     "metadata": {},
     "output_type": "execute_result"
    }
   ],
   "source": [
    "#variable-13-cancellation-policy\n",
    "train_x['cancellation_policy'] = train_x['cancellation_policy'].str.replace('super_strict_30', 'very_strict')\n",
    "train_x['cancellation_policy'] = train_x['cancellation_policy'].str.replace('super_strict_60', 'very_strict')\n",
    "train_x['cancellation_policy'] = train_x['cancellation_policy'].str.replace('5', 'strict')\n",
    "train_x['cancellation_policy'] = train_x['cancellation_policy'].str.replace('1', 'strict')\n",
    "train_x['cancellation_policy'] = train_x['cancellation_policy'].str.replace('2', 'strict')\n",
    "train_x['cancellation_policy'] = train_x['cancellation_policy'].str.replace('no_refunds', 'strict')\n",
    "train_x['cancellation_policy'] = train_x['cancellation_policy'].str.replace('strict.0', 'strict')\n",
    "train_x.cancellation_policy.value_counts()"
   ]
  },
  {
   "cell_type": "code",
   "execution_count": 18,
   "metadata": {},
   "outputs": [
    {
     "data": {
      "text/plain": [
       "False    100000\n",
       "Name: cleaning_fee, dtype: int64"
      ]
     },
     "execution_count": 18,
     "metadata": {},
     "output_type": "execute_result"
    }
   ],
   "source": [
    "#variable-14-cleaning_fee\n",
    "train_x.cleaning_fee = train_x.cleaning_fee.str.replace('$','')\n",
    "train_x.cleaning_fee = pd.to_numeric(train_x['cleaning_fee'], errors='coerce')\n",
    "train_x.cleaning_fee.fillna(train_x.cleaning_fee.mode()[0], inplace = True)\n",
    "train_x.cleaning_fee.isnull().value_counts()"
   ]
  },
  {
   "cell_type": "code",
   "execution_count": 19,
   "metadata": {
    "collapsed": true
   },
   "outputs": [],
   "source": [
    "#variable-15-21- city,city_name,county,country,country_code,latitude,longitude \n",
    "#variable-22-23 - description, experiences_offered"
   ]
  },
  {
   "cell_type": "code",
   "execution_count": 20,
   "metadata": {
    "collapsed": true
   },
   "outputs": [],
   "source": [
    "extra = pd.read_csv(\"city-room-street.csv\")"
   ]
  },
  {
   "cell_type": "code",
   "execution_count": 21,
   "metadata": {
    "collapsed": true
   },
   "outputs": [],
   "source": [
    "#variable- 16-city_name\n",
    "extra['city'] = extra['city'].str.replace('Washington, D.C.', 'Washington DC')\n",
    "train_x.city = extra.city"
   ]
  },
  {
   "cell_type": "code",
   "execution_count": 22,
   "metadata": {
    "collapsed": true
   },
   "outputs": [],
   "source": [
    "#variable-24- extra_people\n",
    "extra.extra_people = extra.extra_people.str.replace('$','')\n",
    "extra.extra_people.value_counts()\n",
    "train_x.extra_people = extra.extra_people"
   ]
  },
  {
   "cell_type": "code",
   "execution_count": 23,
   "metadata": {},
   "outputs": [
    {
     "data": {
      "text/plain": [
       "2016.0    31378\n",
       "2017.0    26571\n",
       "2015.0    21178\n",
       "2014.0     9424\n",
       "2013.0     4560\n",
       "2018.0     2894\n",
       "2012.0     2457\n",
       "2011.0     1092\n",
       "2010.0      362\n",
       "2009.0       80\n",
       "2008.0        4\n",
       "Name: year_first_review, dtype: int64"
      ]
     },
     "execution_count": 23,
     "metadata": {},
     "output_type": "execute_result"
    }
   ],
   "source": [
    "#variable-25-first_review \n",
    "train_x['date_first_review'] = pd.to_datetime(train_x['first_review'],errors='coerce')\n",
    "train_x['year_first_review'] = pd.DatetimeIndex(train_x['date_first_review']).year\n",
    "train_x.year_first_review = pd.to_numeric(train_x['year_first_review'], errors='coerce')\n",
    "train_x.year_first_review.fillna(train_x.year_first_review.mode()[0], inplace = True)\n",
    "train_x.year_first_review.value_counts()"
   ]
  },
  {
   "cell_type": "code",
   "execution_count": 24,
   "metadata": {},
   "outputs": [
    {
     "data": {
      "text/plain": [
       "1.0     61790\n",
       "2.0     21905\n",
       "4.0      7427\n",
       "3.0      2898\n",
       "6.0      2573\n",
       "5.0      1222\n",
       "8.0       899\n",
       "10.0      365\n",
       "0.0       356\n",
       "7.0       276\n",
       "12.0      103\n",
       "9.0        67\n",
       "16.0       30\n",
       "14.0       29\n",
       "15.0       23\n",
       "11.0       20\n",
       "13.0       14\n",
       "22.0        1\n",
       "18.0        1\n",
       "20.0        1\n",
       "Name: guests_included, dtype: int64"
      ]
     },
     "execution_count": 24,
     "metadata": {},
     "output_type": "execute_result"
    }
   ],
   "source": [
    "#variable-26-guests_included\n",
    "train_x['guests_included'] = np.where(train_x['guests_included'] <0, train_x.host_has_profile_pic,train_x['guests_included'])\n",
    "train_x.guests_included = pd.to_numeric(train_x['guests_included'], errors='coerce')\n",
    "train_x.guests_included.value_counts()"
   ]
  },
  {
   "cell_type": "code",
   "execution_count": 25,
   "metadata": {},
   "outputs": [
    {
     "data": {
      "text/plain": [
       "t    99828\n",
       "f      172\n",
       "Name: host_has_profile_pic, dtype: int64"
      ]
     },
     "execution_count": 25,
     "metadata": {},
     "output_type": "execute_result"
    }
   ],
   "source": [
    "#variable-29-host_has_profile_pic\n",
    "train_x.host_has_profile_pic.fillna('t', inplace = True)\n",
    "train_x['host_has_profile_pic'] = np.where(~train_x['host_has_profile_pic'].astype(str).str.contains('f'), 't', 'f')\n",
    "train_x.host_has_profile_pic.value_counts()"
   ]
  },
  {
   "cell_type": "code",
   "execution_count": 26,
   "metadata": {},
   "outputs": [
    {
     "data": {
      "text/plain": [
       "t    70041\n",
       "f    29959\n",
       "Name: host_identity_verified, dtype: int64"
      ]
     },
     "execution_count": 26,
     "metadata": {},
     "output_type": "execute_result"
    }
   ],
   "source": [
    "#variable-30-host_identity_verified\n",
    "train_x.host_identity_verified.value_counts()\n",
    "train_x.host_identity_verified.fillna('t', inplace = True)\n",
    "train_x['host_identity_verified'] = np.where(~train_x['host_identity_verified'].astype(str).str.contains('f'), 't', 'f')\n",
    "train_x.host_identity_verified.value_counts()"
   ]
  },
  {
   "cell_type": "code",
   "execution_count": 27,
   "metadata": {},
   "outputs": [
    {
     "data": {
      "text/plain": [
       "0.0    73870\n",
       "1.0    26130\n",
       "Name: host_is_superhost, dtype: int64"
      ]
     },
     "execution_count": 27,
     "metadata": {},
     "output_type": "execute_result"
    }
   ],
   "source": [
    "#variable-31-host_is_superhost\n",
    "train_x.host_is_superhost.fillna(0, inplace = True)\n",
    "train_x.host_is_superhost = train_x.host_is_superhost.str.replace('f','0')\n",
    "train_x.host_is_superhost = train_x.host_is_superhost.str.replace('t','1')\n",
    "train_x.host_is_superhost = pd.to_numeric(train_x['host_is_superhost'], errors='coerce')\n",
    "train_x.host_is_superhost.fillna(0, inplace = True)\n",
    "train_x.host_is_superhost.value_counts()"
   ]
  },
  {
   "cell_type": "code",
   "execution_count": 28,
   "metadata": {
    "scrolled": true
   },
   "outputs": [
    {
     "data": {
      "text/plain": [
       "New York, New York, United States                                                                                                        25669\n",
       "Los Angeles, California, United States                                                                                                   13237\n",
       "US                                                                                                                                        7988\n",
       "Austin, Texas, United States                                                                                                              4572\n",
       "Washington, District of Columbia, United States                                                                                           3978\n",
       "San Francisco, California, United States                                                                                                  3803\n",
       "Chicago, Illinois, United States                                                                                                          3535\n",
       "San Diego, California, United States                                                                                                      3419\n",
       "Nashville, Tennessee, United States                                                                                                       3320\n",
       "Portland, Oregon, United States                                                                                                           3314\n",
       "New Orleans, Louisiana, United States                                                                                                     3033\n",
       "Seattle, Washington, United States                                                                                                        2587\n",
       "Denver, Colorado, United States                                                                                                           2520\n",
       "Boston, Massachusetts, United States                                                                                                      2502\n",
       "Brooklyn, New York, United States                                                                                                         1245\n",
       "Oakland, California, United States                                                                                                         926\n",
       "Santa Monica, California, United States                                                                                                    628\n",
       "Asheville, North Carolina, United States                                                                                                   573\n",
       "Long Beach, California, United States                                                                                                      495\n",
       "United States                                                                                                                              403\n",
       "Beverly Hills, California, United States                                                                                                   390\n",
       "West Hollywood, California, United States                                                                                                  366\n",
       "Pasadena, California, United States                                                                                                        347\n",
       "Queens, New York, United States                                                                                                            338\n",
       "Santa Cruz, California, United States                                                                                                      329\n",
       "Spokane, Washington, United States                                                                                                         288\n",
       "California, United States                                                                                                                  238\n",
       "Malibu, California, United States                                                                                                          207\n",
       "Montreal, Quebec, Canada                                                                                                                   188\n",
       "Marina del Rey, California, United States                                                                                                  153\n",
       "                                                                                                                                         ...  \n",
       "20 year native to Harlem NYC                                                                                                                 1\n",
       "U.S.                                                                                                                                         1\n",
       "Seattle WA and Portland OR                                                                                                                   1\n",
       "Antioquia, Colombia                                                                                                                          1\n",
       "Oregon City, Oregon, United States                                                                                                           1\n",
       "Newtown, Connecticut, United States                                                                                                          1\n",
       "West Hempstead, New York, United States                                                                                                      1\n",
       "usa                                                                                                                                          1\n",
       "Brazil                                                                                                                                       1\n",
       "Del Rey                                                                                                                                      1\n",
       "Los Altos Hills, California, United States                                                                                                   1\n",
       "California, US                                                                                                                               1\n",
       "Maroubra, New South Wales, Australia                                                                                                         1\n",
       "Fredericksburg, Virginia, United States                                                                                                      1\n",
       "Orléans, Centre-Val de Loire, France                                                                                                         1\n",
       "Greenville, South Carolina, United States                                                                                                    1\n",
       "My partner and I stay either at the Airbnb house - or at his place in North Austin.   When the house is rented, we stay at his place.        1\n",
       "Great Falls, Virginia, United States                                                                                                         1\n",
       "Eureka, California, United States                                                                                                            1\n",
       "Greenport, New York, United States                                                                                                           1\n",
       "Alabama                                                                                                                                      1\n",
       "Durango, Durango, Mexico                                                                                                                     1\n",
       "Jericho, Vermont, United States                                                                                                              1\n",
       "El Cerrito, California, United States                                                                                                        1\n",
       "Flower Mound, Texas, United States                                                                                                           1\n",
       "Norristown, Pennsylvania, United States                                                                                                      1\n",
       "Wellington, Wellington, New Zealand                                                                                                          1\n",
       "Lima Region, Peru                                                                                                                            1\n",
       "London                                                                                                                                       1\n",
       "Bridgewater, New Jersey, United States                                                                                                       1\n",
       "Name: host_location, Length: 2154, dtype: int64"
      ]
     },
     "execution_count": 28,
     "metadata": {},
     "output_type": "execute_result"
    }
   ],
   "source": [
    "#variable-33-host_location\n",
    "train_x.host_location.value_counts()"
   ]
  },
  {
   "cell_type": "code",
   "execution_count": 29,
   "metadata": {
    "scrolled": true
   },
   "outputs": [
    {
     "data": {
      "text/plain": [
       "100.0    82348\n",
       "90.0      2877\n",
       "80.0      1333\n",
       "99.0      1090\n",
       "98.0       844\n",
       "50.0       765\n",
       "97.0       707\n",
       "0.0        681\n",
       "96.0       659\n",
       "94.0       622\n",
       "95.0       616\n",
       "92.0       555\n",
       "67.0       538\n",
       "70.0       533\n",
       "88.0       524\n",
       "93.0       519\n",
       "89.0       445\n",
       "83.0       422\n",
       "75.0       420\n",
       "86.0       398\n",
       "60.0       395\n",
       "91.0       344\n",
       "33.0       177\n",
       "78.0       177\n",
       "87.0       153\n",
       "71.0       153\n",
       "40.0       149\n",
       "85.0       131\n",
       "81.0       124\n",
       "82.0       109\n",
       "         ...  \n",
       "44.0        22\n",
       "17.0        21\n",
       "58.0        20\n",
       "53.0        17\n",
       "46.0        15\n",
       "10.0        14\n",
       "38.0        12\n",
       "55.0        12\n",
       "48.0        11\n",
       "59.0        10\n",
       "29.0        10\n",
       "62.0         9\n",
       "52.0         7\n",
       "14.0         7\n",
       "61.0         7\n",
       "27.0         6\n",
       "13.0         6\n",
       "36.0         6\n",
       "22.0         5\n",
       "42.0         5\n",
       "11.0         4\n",
       "41.0         3\n",
       "47.0         3\n",
       "31.0         3\n",
       "4.0          2\n",
       "18.0         2\n",
       "51.0         1\n",
       "21.0         1\n",
       "35.0         1\n",
       "66.0         1\n",
       "Name: host_response_rate, Length: 79, dtype: int64"
      ]
     },
     "execution_count": 29,
     "metadata": {},
     "output_type": "execute_result"
    }
   ],
   "source": [
    "#variable-36-host_response_rate\n",
    "train_x.host_response_rate.value_counts()\n",
    "train_x.host_response_rate = train_x.host_response_rate.str.replace('%','')\n",
    "train_x.host_response_rate = pd.to_numeric(train_x['host_response_rate'], errors='coerce')\n",
    "train_x.host_response_rate.fillna(100, inplace = True)\n",
    "train_x.host_response_rate.value_counts()"
   ]
  },
  {
   "cell_type": "code",
   "execution_count": 30,
   "metadata": {},
   "outputs": [
    {
     "data": {
      "text/plain": [
       "0.0    70676\n",
       "1.0    17262\n",
       "2.0    10657\n",
       "3.0     1405\n",
       "Name: host_response_time, dtype: int64"
      ]
     },
     "execution_count": 30,
     "metadata": {},
     "output_type": "execute_result"
    }
   ],
   "source": [
    "#variable-37-host_response_time\n",
    "train_x.host_response_time.fillna('within an hour', inplace = True)\n",
    "train_x.host_response_time = train_x.host_response_time.str.replace('within an hour','0')\n",
    "train_x.host_response_time = train_x.host_response_time.str.replace('within a few hours','1')\n",
    "train_x.host_response_time = train_x.host_response_time.str.replace('within a day','2')\n",
    "train_x.host_response_time = train_x.host_response_time.str.replace('a few days or more','3')\n",
    "train_x.host_response_time = pd.to_numeric(train_x['host_response_time'], errors='coerce')\n",
    "train_x.host_response_time.fillna(0, inplace = True)\n",
    "train_x.host_response_time.value_counts()"
   ]
  },
  {
   "cell_type": "code",
   "execution_count": 31,
   "metadata": {},
   "outputs": [
    {
     "data": {
      "text/plain": [
       "2015.0    20666\n",
       "2014.0    18985\n",
       "2016.0    16144\n",
       "2013.0    15143\n",
       "2012.0    11557\n",
       "2017.0     6984\n",
       "2011.0     6719\n",
       "2010.0     2391\n",
       "2009.0      959\n",
       "2018.0      314\n",
       "2008.0      138\n",
       "Name: year_host, dtype: int64"
      ]
     },
     "execution_count": 31,
     "metadata": {},
     "output_type": "execute_result"
    }
   ],
   "source": [
    "#variable-38-host_since\n",
    "train_x['host_since'] = pd.to_datetime(train_x['host_since'],errors='coerce')\n",
    "train_x['year_host'] = pd.DatetimeIndex(train_x['host_since']).year\n",
    "train_x.year_host = pd.to_numeric(train_x['year_host'], errors='coerce')\n",
    "train_x.year_host.fillna(train_x.year_host.mode()[0], inplace = True)\n",
    "train_x.year_host.value_counts()"
   ]
  },
  {
   "cell_type": "code",
   "execution_count": 32,
   "metadata": {
    "collapsed": true
   },
   "outputs": [],
   "source": [
    "#variable-39-host_total_listings_count\n",
    "train_x.host_total_listings_count = pd.to_numeric(train_x['host_total_listings_count'], errors='coerce')\n",
    "train_x.host_total_listings_count.fillna(1, inplace = True)"
   ]
  },
  {
   "cell_type": "code",
   "execution_count": 33,
   "metadata": {
    "collapsed": true
   },
   "outputs": [],
   "source": [
    "#variable-40-host_verifications\n",
    "train_x['verification'] = np.where(train_x['host_verifications'].str.contains(\n",
    "    'email' or 'phone' or 'google' or 'reviews' or 'jumio' or 'kba' or 'work_email' or \n",
    "    'facebook' or 'linkedin' or 'selfie' or 'identity_manual' or 'government_id' or \n",
    "    'amex' or 'offline_government_id'\n",
    "    or 'sent_id' or 'photographer' or 'sesame' or 'sesame_offline' or 'weibo'), 'yes', 'no')"
   ]
  },
  {
   "cell_type": "code",
   "execution_count": 34,
   "metadata": {
    "collapsed": true
   },
   "outputs": [],
   "source": [
    "train_x['host_verifications'] = train_x['host_verifications'].str.lower()"
   ]
  },
  {
   "cell_type": "code",
   "execution_count": 35,
   "metadata": {},
   "outputs": [
    {
     "data": {
      "text/plain": [
       "['email', 'phone', 'reviews', 'kba']                                                                                                                                     17422\n",
       "['email', 'phone', 'reviews']                                                                                                                                            15070\n",
       "['email', 'phone', 'reviews', 'jumio']                                                                                                                                   12492\n",
       "['email', 'phone', 'facebook', 'reviews', 'kba']                                                                                                                          7294\n",
       "['email', 'phone', 'facebook', 'reviews', 'jumio']                                                                                                                        4214\n",
       "['email', 'phone', 'facebook', 'reviews']                                                                                                                                 3762\n",
       "['email', 'phone', 'reviews', 'kba', 'work_email']                                                                                                                        2861\n",
       "['email', 'phone', 'reviews', 'jumio', 'government_id']                                                                                                                   2184\n",
       "['email', 'phone', 'reviews', 'jumio', 'offline_government_id', 'selfie', 'government_id', 'identity_manual']                                                             2126\n",
       "['email', 'phone', 'reviews', 'jumio', 'work_email']                                                                                                                      1998\n",
       "['email', 'phone', 'reviews', 'jumio', 'offline_government_id', 'government_id']                                                                                          1831\n",
       "['email', 'phone', 'facebook', 'reviews', 'kba', 'work_email']                                                                                                            1523\n",
       "['email', 'phone', 'facebook', 'reviews', 'jumio', 'government_id']                                                                                                       1461\n",
       "['phone', 'reviews']                                                                                                                                                      1442\n",
       "['email', 'phone', 'google', 'reviews', 'kba']                                                                                                                            1206\n",
       "['email', 'phone', 'facebook', 'reviews', 'jumio', 'offline_government_id', 'government_id']                                                                              1003\n",
       "['email', 'phone', 'facebook', 'reviews', 'jumio', 'work_email']                                                                                                           905\n",
       "['email', 'phone', 'reviews', 'work_email']                                                                                                                                825\n",
       "['email', 'phone', 'reviews', 'jumio', 'kba']                                                                                                                              824\n",
       "['email', 'phone', 'google', 'reviews', 'jumio', 'government_id']                                                                                                          801\n",
       "['email', 'phone', 'facebook', 'reviews', 'jumio', 'offline_government_id', 'selfie', 'government_id', 'identity_manual']                                                  658\n",
       "['email', 'phone', 'linkedin', 'reviews', 'kba']                                                                                                                           584\n",
       "['email', 'phone', 'google', 'reviews', 'jumio']                                                                                                                           584\n",
       "['email', 'phone', 'reviews', 'manual_offline', 'jumio']                                                                                                                   476\n",
       "['email', 'phone', 'facebook', 'google', 'reviews', 'kba']                                                                                                                 429\n",
       "['email', 'phone', 'google', 'reviews', 'jumio', 'offline_government_id', 'government_id']                                                                                 428\n",
       "['phone', 'facebook', 'reviews']                                                                                                                                           424\n",
       "['email', 'phone']                                                                                                                                                         382\n",
       "['email', 'phone', 'google', 'reviews']                                                                                                                                    375\n",
       "['email', 'phone', 'reviews', 'jumio', 'government_id', 'work_email']                                                                                                      368\n",
       "                                                                                                                                                                         ...  \n",
       "['email', 'phone', 'facebook', 'google', 'linkedin', 'amex', 'reviews', 'jumio', 'offline_government_id', 'kba', 'government_id']                                            1\n",
       "['email', 'phone', 'linkedin', 'reviews', 'jumio', 'selfie', 'government_id']                                                                                                1\n",
       "['email', 'phone', 'manual_online', 'linkedin', 'reviews', 'manual_offline', 'jumio', 'offline_government_id', 'selfie', 'government_id', 'identity_manual']                 1\n",
       "['email', 'phone', 'google', 'linkedin', 'jumio', 'offline_government_id', 'selfie', 'government_id', 'identity_manual']                                                     1\n",
       "['email', 'phone', 'facebook', 'google', 'amex', 'reviews', 'work_email']                                                                                                    1\n",
       "['phone', 'facebook', 'reviews', 'jumio', 'selfie', 'government_id', 'identity_manual']                                                                                      1\n",
       "['email', 'manual_online', 'facebook', 'reviews', 'manual_offline', 'sent_id', 'kba']                                                                                        1\n",
       "['email', 'phone', 'facebook', 'amex', 'reviews']                                                                                                                            1\n",
       "['email', 'phone', 'facebook', 'google', 'amex', 'reviews', 'jumio', 'kba', 'government_id', 'work_email']                                                                   1\n",
       "['phone', 'linkedin', 'reviews', 'kba', 'work_email']                                                                                                                        1\n",
       "['email', 'phone', 'facebook', 'reviews', 'manual_offline', 'kba']                                                                                                           1\n",
       "['email', 'phone', 'google', 'linkedin', 'reviews', 'sesame', 'sesame_offline']                                                                                              1\n",
       "97.0                                                                                                                                                                         1\n",
       "['email', 'phone', 'facebook', 'amex', 'reviews', 'jumio', 'kba', 'government_id', 'work_email']                                                                             1\n",
       "['email', 'phone', 'facebook', 'google', 'linkedin', 'amex', 'reviews', 'jumio', 'selfie', 'government_id', 'identity_manual', 'work_email']                                 1\n",
       "['phone', 'reviews', 'jumio', 'offline_government_id', 'kba', 'government_id']                                                                                               1\n",
       "['email', 'phone', 'facebook', 'google', 'linkedin', 'amex', 'reviews', 'jumio', 'offline_government_id', 'selfie', 'government_id', 'identity_manual', 'work_email']        1\n",
       "['reviews', 'jumio', 'government_id']                                                                                                                                        1\n",
       "['phone', 'facebook', 'linkedin', 'reviews', 'kba']                                                                                                                          1\n",
       "['email', 'phone', 'google', 'linkedin', 'reviews', 'jumio', 'selfie', 'government_id', 'identity_manual', 'work_email']                                                     1\n",
       "['email', 'phone', 'manual_online', 'facebook', 'reviews', 'manual_offline', 'jumio', 'offline_government_id', 'government_id', 'work_email']                                1\n",
       "['email', 'phone', 'facebook', 'google', 'linkedin', 'amex', 'reviews', 'jumio', 'offline_government_id', 'government_id', 'work_email']                                     1\n",
       "['email', 'phone', 'linkedin', 'amex', 'reviews', 'jumio', 'kba', 'work_email']                                                                                              1\n",
       "['email', 'phone', 'manual_online', 'reviews', 'manual_offline', 'jumio', 'offline_government_id', 'kba', 'government_id', 'work_email']                                     1\n",
       "['email', 'phone', 'facebook', 'jumio', 'offline_government_id', 'selfie', 'government_id', 'identity_manual', 'work_email']                                                 1\n",
       "['phone', 'facebook', 'jumio', 'offline_government_id', 'government_id']                                                                                                     1\n",
       "['email', 'phone', 'amex', 'reviews', 'jumio', 'government_id', 'work_email']                                                                                                1\n",
       "['email', 'phone', 'facebook', 'google', 'linkedin', 'reviews', 'sent_id']                                                                                                   1\n",
       "['email', 'phone', 'facebook', 'reviews', 'jumio', 'government_id', 'identity_manual']                                                                                       1\n",
       "['email', 'phone', 'google', 'reviews', 'jumio', 'kba', 'selfie', 'government_id', 'identity_manual', 'work_email']                                                          1\n",
       "Name: host_verifications, Length: 729, dtype: int64"
      ]
     },
     "execution_count": 35,
     "metadata": {},
     "output_type": "execute_result"
    }
   ],
   "source": [
    "train_x['host_verifications'].value_counts()"
   ]
  },
  {
   "cell_type": "code",
   "execution_count": 36,
   "metadata": {
    "collapsed": true
   },
   "outputs": [],
   "source": [
    "#variable-listing verifications\n",
    "train_x['Reviews'] = np.where(train_x['host_verifications'].str.contains('review'), 'yes', 'no')\n",
    "train_x['Email'] = np.where(train_x['host_verifications'].str.contains('email'), 'yes', 'no')\n",
    "train_x['Phone'] = np.where(train_x['host_verifications'].str.contains('phone'), 'yes', 'no')\n",
    "train_x['Facebook'] = np.where(train_x['host_verifications'].str.contains('facebook'), 'yes', 'no')"
   ]
  },
  {
   "cell_type": "code",
   "execution_count": 37,
   "metadata": {},
   "outputs": [
    {
     "data": {
      "text/plain": [
       "1.0    69607\n",
       "0.0    30393\n",
       "Name: house_rules, dtype: int64"
      ]
     },
     "execution_count": 37,
     "metadata": {},
     "output_type": "execute_result"
    }
   ],
   "source": [
    "#variable-41-house_rules\n",
    "train_x.house_rules.fillna('f', inplace = True)\n",
    "train_x.house_rules = train_x.house_rules.str.replace('f','0')\n",
    "train_x.house_rules = pd.to_numeric(train_x['house_rules'], errors='coerce')\n",
    "train_x.house_rules.fillna(1, inplace = True)\n",
    "train_x.house_rules.value_counts()"
   ]
  },
  {
   "cell_type": "code",
   "execution_count": 38,
   "metadata": {
    "collapsed": true
   },
   "outputs": [],
   "source": [
    "#variable-42-instant_bookable\n",
    "train_x.instant_bookable.fillna('f', inplace = True)\n",
    "train_x.instant_bookable = train_x.instant_bookable.str.replace('f','0')\n",
    "train_x.instant_bookable = train_x.instant_bookable.str.replace('t','1')\n",
    "train_x.instant_bookable = pd.to_numeric(train_x['instant_bookable'], errors='coerce')\n",
    "train_x.instant_bookable.fillna(0, inplace = True)"
   ]
  },
  {
   "cell_type": "code",
   "execution_count": 39,
   "metadata": {
    "collapsed": true
   },
   "outputs": [],
   "source": [
    "#variable-44-is_business_travel_ready\n",
    "train_x.is_business_travel_ready.value_counts()\n",
    "train_x.is_business_travel_ready = train_x.is_business_travel_ready.str.replace('f','0')\n",
    "train_x.is_business_travel_ready = train_x.is_business_travel_ready.str.replace('t','1')\n",
    "train_x.is_business_travel_ready = pd.to_numeric(train_x['is_business_travel_ready'], errors='coerce')\n",
    "train_x.is_business_travel_ready.fillna(0, inplace = True)"
   ]
  },
  {
   "cell_type": "code",
   "execution_count": 40,
   "metadata": {},
   "outputs": [
    {
     "data": {
      "text/plain": [
       "t    83933\n",
       "f    16067\n",
       "Name: is_location_exact, dtype: int64"
      ]
     },
     "execution_count": 40,
     "metadata": {},
     "output_type": "execute_result"
    }
   ],
   "source": [
    "#variable-45-is_location_exact\n",
    "train_x.is_location_exact.value_counts()\n",
    "train_x.is_location_exact.fillna('t', inplace = True)\n",
    "train_x.is_location_exact.value_counts()"
   ]
  },
  {
   "cell_type": "code",
   "execution_count": 41,
   "metadata": {
    "collapsed": true
   },
   "outputs": [],
   "source": [
    "#variable-51-maximum nights\n",
    "train_x.maximum_nights = pd.to_numeric(train_x['maximum_nights'], errors='coerce')\n",
    "train_x.maximum_nights.fillna(1125, inplace = True)\n",
    "train_x['maximum_nights'] = np.where(train_x['maximum_nights'] >1125,1125,train_x['maximum_nights'])"
   ]
  },
  {
   "cell_type": "code",
   "execution_count": 42,
   "metadata": {
    "collapsed": true
   },
   "outputs": [],
   "source": [
    "#variable-52-minimum nights\n",
    "train_x.minimum_nights = pd.to_numeric(train_x['minimum_nights'], errors='coerce')\n",
    "train_x.minimum_nights.fillna(1, inplace = True)"
   ]
  },
  {
   "cell_type": "code",
   "execution_count": 43,
   "metadata": {},
   "outputs": [
    {
     "data": {
      "text/plain": [
       "f    98641\n",
       "t     1359\n",
       "Name: monthly_price, dtype: int64"
      ]
     },
     "execution_count": 43,
     "metadata": {},
     "output_type": "execute_result"
    }
   ],
   "source": [
    "#variable-53-monthly_price\n",
    "train_x.monthly_price = train_x.monthly_price.str.replace('$','')\n",
    "train_x.monthly_price = pd.to_numeric(train_x['monthly_price'], errors='coerce')\n",
    "train_x.monthly_price.fillna('f', inplace = True)\n",
    "train_x['monthly_price'] = np.where(~train_x['monthly_price'].astype(str).str.contains('f'), 't', 'f')\n",
    "train_x.monthly_price.value_counts()"
   ]
  },
  {
   "cell_type": "code",
   "execution_count": 44,
   "metadata": {},
   "outputs": [
    {
     "data": {
      "text/plain": [
       "False    100000\n",
       "Name: price, dtype: int64"
      ]
     },
     "execution_count": 44,
     "metadata": {},
     "output_type": "execute_result"
    }
   ],
   "source": [
    "#variable-58-price\n",
    "train_x.price = train_x.price.str.replace('$','')\n",
    "train_x.price = pd.to_numeric(train_x['price'], errors='coerce')\n",
    "train_x.price.fillna(train_x.price.mode()[0], inplace = True)\n",
    "train_x.price.isnull().value_counts()"
   ]
  },
  {
   "cell_type": "code",
   "execution_count": 45,
   "metadata": {},
   "outputs": [
    {
     "data": {
      "text/plain": [
       "f    95445\n",
       "t     4555\n",
       "Name: require_guest_phone_verification, dtype: int64"
      ]
     },
     "execution_count": 45,
     "metadata": {},
     "output_type": "execute_result"
    }
   ],
   "source": [
    "#variable-60-require_guest_phone_verification\n",
    "train_x.require_guest_phone_verification.fillna('f', inplace = True)\n",
    "train_x.require_guest_phone_verification.isnull().value_counts()\n",
    "train_x.require_guest_phone_verification.value_counts()"
   ]
  },
  {
   "cell_type": "code",
   "execution_count": 46,
   "metadata": {},
   "outputs": [
    {
     "data": {
      "text/plain": [
       "f    96521\n",
       "t     3479\n",
       "Name: require_guest_profile_picture, dtype: int64"
      ]
     },
     "execution_count": 46,
     "metadata": {},
     "output_type": "execute_result"
    }
   ],
   "source": [
    "#variable-61-require_guest_profile_picture\n",
    "train_x.require_guest_profile_picture.fillna('f', inplace = True)\n",
    "train_x.require_guest_profile_picture.isnull().value_counts()\n",
    "train_x.require_guest_profile_picture.value_counts()"
   ]
  },
  {
   "cell_type": "code",
   "execution_count": 47,
   "metadata": {},
   "outputs": [
    {
     "data": {
      "text/plain": [
       "f    80534\n",
       "t    19466\n",
       "Name: requires_license, dtype: int64"
      ]
     },
     "execution_count": 47,
     "metadata": {},
     "output_type": "execute_result"
    }
   ],
   "source": [
    "#variable-62-requires_license\n",
    "train_x.requires_license.fillna('f', inplace = True)\n",
    "train_x.requires_license.isnull().value_counts()\n",
    "train_x.requires_license.value_counts()"
   ]
  },
  {
   "cell_type": "code",
   "execution_count": 48,
   "metadata": {},
   "outputs": [
    {
     "data": {
      "text/plain": [
       "t    55712\n",
       "f    44288\n",
       "Name: security_deposit, dtype: int64"
      ]
     },
     "execution_count": 48,
     "metadata": {},
     "output_type": "execute_result"
    }
   ],
   "source": [
    "#variable-64-security_deposit\n",
    "train_x.security_deposit = train_x.security_deposit.str.replace('$','')\n",
    "train_x.security_deposit = pd.to_numeric(train_x['security_deposit'], errors='coerce')\n",
    "train_x.security_deposit.fillna('f', inplace = True)\n",
    "train_x['security_deposit'] = np.where(~train_x['security_deposit'].astype(str).str.contains('f'), 't', 'f')\n",
    "train_x.security_deposit.value_counts()"
   ]
  },
  {
   "cell_type": "code",
   "execution_count": 49,
   "metadata": {
    "collapsed": true
   },
   "outputs": [],
   "source": [
    "state = pd.read_csv('state-property_type.csv')"
   ]
  },
  {
   "cell_type": "code",
   "execution_count": 50,
   "metadata": {
    "collapsed": true
   },
   "outputs": [],
   "source": [
    "#variable-59 - state and variable 68 - property type\n",
    "train_x.state = state.state\n",
    "train_x.property_type = state.property_type"
   ]
  },
  {
   "cell_type": "code",
   "execution_count": 51,
   "metadata": {
    "collapsed": true
   },
   "outputs": [],
   "source": [
    "train_x['property_type'] = np.where(train_x['property_type'].astype(str).str.contains('bed & breakfast'), \n",
    "                                 'bed and breakfast', train_x['property_type'])"
   ]
  },
  {
   "cell_type": "code",
   "execution_count": 52,
   "metadata": {},
   "outputs": [
    {
     "data": {
      "text/plain": [
       "apartment                 54709\n",
       "house                     31447\n",
       "condominium                3701\n",
       "townhouse                  2776\n",
       "loft                       1866\n",
       "guesthouse                  891\n",
       "other                       829\n",
       "bed and breakfast           696\n",
       "bungalow                    653\n",
       "guest suite                 567\n",
       "cabin                       225\n",
       "dorm                        215\n",
       "villa                       213\n",
       "camper/rv                   162\n",
       "serviced apartment          162\n",
       "in-law                      160\n",
       "boutique hotel              153\n",
       "hostel                      139\n",
       "boat                         88\n",
       "timeshare                    72\n",
       "vacation home                50\n",
       "tent                         45\n",
       "resort                       30\n",
       "treehouse                    28\n",
       "castle                       18\n",
       "yurt                         14\n",
       "cottage                      14\n",
       "hotel                        12\n",
       "hut                          12\n",
       "chalet                       10\n",
       "earth house                  10\n",
       "tipi                          5\n",
       "aparthotel                    5\n",
       "tiny house                    5\n",
       "cave                          5\n",
       "island                        3\n",
       "train                         3\n",
       "farm stay                     2\n",
       "barn                          1\n",
       "casa particular (cuba)        1\n",
       "lighthouse                    1\n",
       "plane                         1\n",
       "nature lodge                  1\n",
       "Name: property_type, dtype: int64"
      ]
     },
     "execution_count": 52,
     "metadata": {},
     "output_type": "execute_result"
    }
   ],
   "source": [
    "train_x.property_type.value_counts()"
   ]
  },
  {
   "cell_type": "code",
   "execution_count": 53,
   "metadata": {},
   "outputs": [
    {
     "data": {
      "text/plain": [
       "Entire home/apt    60911\n",
       "Private room       36617\n",
       "Shared room         2472\n",
       "Name: room_type, dtype: int64"
      ]
     },
     "execution_count": 53,
     "metadata": {},
     "output_type": "execute_result"
    }
   ],
   "source": [
    "#variable-63-room_type\n",
    "train_x.room_type.value_counts()\n",
    "train_x.room_type.fillna('Entire home/apt', inplace = True)\n",
    "train_x.room_type.value_counts()"
   ]
  },
  {
   "cell_type": "code",
   "execution_count": 54,
   "metadata": {},
   "outputs": [],
   "source": [
    "train_x['transit'] = train_x['transit'].str.lower()"
   ]
  },
  {
   "cell_type": "code",
   "execution_count": 55,
   "metadata": {},
   "outputs": [
    {
     "data": {
      "text/plain": [
       "no     63901\n",
       "yes    36099\n",
       "Name: transit_available, dtype: int64"
      ]
     },
     "execution_count": 55,
     "metadata": {},
     "output_type": "execute_result"
    }
   ],
   "source": [
    "#variable-71-transit\n",
    "train_x['transit_available'] = np.where(train_x['transit'].str.contains('public transportation' or  'metro' or'bus' \n",
    "                                                           or 'line'), 'yes', 'no')\n",
    "train_x.transit_available.value_counts()"
   ]
  },
  {
   "cell_type": "code",
   "execution_count": 56,
   "metadata": {},
   "outputs": [
    {
     "data": {
      "text/plain": [
       "True     75895\n",
       "False    24105\n",
       "Name: weekly_price, dtype: int64"
      ]
     },
     "execution_count": 56,
     "metadata": {},
     "output_type": "execute_result"
    }
   ],
   "source": [
    "train_x.weekly_price.isnull().value_counts()"
   ]
  },
  {
   "cell_type": "code",
   "execution_count": 57,
   "metadata": {
    "scrolled": true
   },
   "outputs": [
    {
     "data": {
      "text/plain": [
       "f    82962\n",
       "t    17038\n",
       "Name: weekly_price, dtype: int64"
      ]
     },
     "execution_count": 57,
     "metadata": {},
     "output_type": "execute_result"
    }
   ],
   "source": [
    "#variable-72-weekly_price\n",
    "train_x.weekly_price = train_x.weekly_price.str.replace('$','')\n",
    "train_x.weekly_price = pd.to_numeric(train_x['weekly_price'], errors='coerce')\n",
    "train_x.weekly_price.fillna('f', inplace = True)\n",
    "train_x['weekly_price'] = np.where(~train_x['weekly_price'].astype(str).str.contains('f'), 't', 'f')\n",
    "train_x.weekly_price.value_counts()"
   ]
  },
  {
   "cell_type": "code",
   "execution_count": 58,
   "metadata": {
    "collapsed": true
   },
   "outputs": [],
   "source": [
    "train_x.to_csv('train_x_may07_11pm.csv', encoding='utf-8', index=False)"
   ]
  },
  {
   "cell_type": "code",
   "execution_count": 61,
   "metadata": {},
   "outputs": [
    {
     "name": "stdout",
     "output_type": "stream",
     "text": [
      "<class 'pandas.core.frame.DataFrame'>\n",
      "RangeIndex: 100000 entries, 0 to 99999\n",
      "Columns: 103 entries, Unnamed: 0 to transit_available\n",
      "dtypes: datetime64[ns](2), float64(22), int64(2), object(77)\n",
      "memory usage: 78.6+ MB\n"
     ]
    }
   ],
   "source": [
    "train_x.info()"
   ]
  },
  {
   "cell_type": "code",
   "execution_count": 59,
   "metadata": {},
   "outputs": [
    {
     "name": "stderr",
     "output_type": "stream",
     "text": [
      "C:\\ProgramData\\Anaconda3\\lib\\site-packages\\IPython\\core\\interactiveshell.py:2717: DtypeWarning: Columns (28,43,45,69) have mixed types. Specify dtype option on import or set low_memory=False.\n",
      "  interactivity=interactivity, compiler=compiler, result=result)\n"
     ]
    }
   ],
   "source": [
    "test_x = pd.read_csv(\"train_x_may06_5pm.csv\")"
   ]
  },
  {
   "cell_type": "code",
   "execution_count": 60,
   "metadata": {},
   "outputs": [
    {
     "data": {
      "text/plain": [
       "2015.0    20666\n",
       "2014.0    18985\n",
       "2016.0    16144\n",
       "2013.0    15143\n",
       "2012.0    11557\n",
       "2017.0     6984\n",
       "2011.0     6719\n",
       "2010.0     2391\n",
       "2009.0      959\n",
       "2018.0      314\n",
       "2008.0      138\n",
       "Name: year_host, dtype: int64"
      ]
     },
     "execution_count": 60,
     "metadata": {},
     "output_type": "execute_result"
    }
   ],
   "source": [
    "test_x.year_host.value_counts()"
   ]
  }
 ],
 "metadata": {
  "kernelspec": {
   "display_name": "Python 3",
   "language": "python",
   "name": "python3"
  },
  "language_info": {
   "codemirror_mode": {
    "name": "ipython",
    "version": 3
   },
   "file_extension": ".py",
   "mimetype": "text/x-python",
   "name": "python",
   "nbconvert_exporter": "python",
   "pygments_lexer": "ipython3",
   "version": "3.6.1"
  }
 },
 "nbformat": 4,
 "nbformat_minor": 2
}
